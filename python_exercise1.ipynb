{
  "nbformat": 4,
  "nbformat_minor": 0,
  "metadata": {
    "colab": {
      "provenance": []
    },
    "kernelspec": {
      "name": "python3",
      "display_name": "Python 3"
    },
    "language_info": {
      "name": "python"
    }
  },
  "cells": [
    {
      "cell_type": "code",
      "execution_count": null,
      "metadata": {
        "id": "KhOq3_MEcTdj"
      },
      "outputs": [],
      "source": []
    },
    {
      "cell_type": "code",
      "source": [],
      "metadata": {
        "id": "bk08YHwncb8J"
      },
      "execution_count": null,
      "outputs": []
    },
    {
      "cell_type": "code",
      "source": [
        "# Determinar si una cadena es un palíndromo\n",
        "\n",
        "def palindrome(phrase):\n",
        "    val = \" no\"\n",
        "    if list(phrase) == list(phrase)[::-1]:\n",
        "        val = \" si\"    \n",
        "    print(phrase + val + \" es una palabra palindrome\")\n",
        "    return None\n",
        "\n",
        "palindrome(\"hbbh\")"
      ],
      "metadata": {
        "colab": {
          "base_uri": "https://localhost:8080/"
        },
        "id": "gN0kF454ccAf",
        "outputId": "b69c4647-1a13-421a-8294-cf8996ae6508"
      },
      "execution_count": 1,
      "outputs": [
        {
          "output_type": "stream",
          "name": "stdout",
          "text": [
            "hbbh si es una palabra palindrome\n"
          ]
        }
      ]
    },
    {
      "cell_type": "code",
      "source": [
        "# Hacer el ejercicio anterior usando un while\n",
        "\n",
        "# def palindrome(phrase):\n",
        "#     val = \" no\"\n",
        "#     while i < len(phrase):\n",
        "\n",
        "\n",
        "#         i = i + 1     \n",
        "#     print(phrase + val + \" es una palabra palindrome\")\n",
        "#     return None\n",
        "\n",
        "palindrome(\"hbbh\")"
      ],
      "metadata": {
        "colab": {
          "base_uri": "https://localhost:8080/"
        },
        "id": "iGr1Nxmrcmf_",
        "outputId": "68c5dfd8-74bb-4aa6-8841-fa5af7b41821"
      },
      "execution_count": 2,
      "outputs": [
        {
          "output_type": "stream",
          "name": "stdout",
          "text": [
            "hbbh si es una palabra palindrome\n"
          ]
        }
      ]
    },
    {
      "cell_type": "code",
      "source": [
        "# -Repetirlo permitiendo espacios para separar y sin distinguir mayúsculas de minúsculas\n",
        "\n",
        "def palindrome(phrase):\n",
        "    pass\n",
        "\n",
        "\n"
      ],
      "metadata": {
        "id": "aI1ysNhUcmcf"
      },
      "execution_count": 3,
      "outputs": []
    },
    {
      "cell_type": "code",
      "source": [
        "# -Construir la lista con los primeros elementos de cada una\n",
        "\n",
        "def list_of_lists(l):\n",
        "    i = 0\n",
        "    final_list = []\n",
        "    while i < len(l):\n",
        "        final_list.append(l[i][0])\n",
        "        i = i + 1\n",
        "\n",
        "    return final_list\n",
        "\n",
        "\n",
        "list_of_lists([[1,10,100],[2,20,200],[3,30,300],[4,40,400]])"
      ],
      "metadata": {
        "colab": {
          "base_uri": "https://localhost:8080/"
        },
        "id": "M8R0CSaOcqxv",
        "outputId": "82a58a71-80d4-490e-9466-daa1b120f779"
      },
      "execution_count": 4,
      "outputs": [
        {
          "output_type": "execute_result",
          "data": {
            "text/plain": [
              "[1, 2, 3, 4]"
            ]
          },
          "metadata": {},
          "execution_count": 4
        }
      ]
    },
    {
      "cell_type": "code",
      "source": [
        "# Construir la lista de las listas invertidas\n",
        "def list_of_lists(l):\n",
        "    i = 0\n",
        "    final_list = []\n",
        "    while i < len(l):\n",
        "        # inv_list \n",
        "        final_list.append(l[i][::-1])\n",
        "        i = i + 1\n",
        "\n",
        "    return final_list\n",
        "\n",
        "\n",
        "list_of_lists([[1,10,100],[2,20,200],[3,30,300],[4,40,400]])"
      ],
      "metadata": {
        "colab": {
          "base_uri": "https://localhost:8080/"
        },
        "id": "t2q-pX6rc1DX",
        "outputId": "ef85b2f5-2242-40f7-f7cb-bfba8748674b"
      },
      "execution_count": 5,
      "outputs": [
        {
          "output_type": "execute_result",
          "data": {
            "text/plain": [
              "[[100, 10, 1], [200, 20, 2], [300, 30, 3], [400, 40, 4]]"
            ]
          },
          "metadata": {},
          "execution_count": 5
        }
      ]
    },
    {
      "cell_type": "code",
      "source": [],
      "metadata": {
        "id": "_Zbz2Neucqpd"
      },
      "execution_count": null,
      "outputs": []
    },
    {
      "cell_type": "code",
      "source": [],
      "metadata": {
        "id": "q0e3Az1KcmTh"
      },
      "execution_count": null,
      "outputs": []
    }
  ]
}