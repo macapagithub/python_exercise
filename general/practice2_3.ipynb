{
 "cells": [
  {
   "cell_type": "markdown",
   "metadata": {},
   "source": [
    "### Sesión 2"
   ]
  },
  {
   "cell_type": "code",
   "execution_count": 44,
   "metadata": {},
   "outputs": [
    {
     "name": "stdout",
     "output_type": "stream",
     "text": [
      "hbbh si es una palabra palindrome\n"
     ]
    }
   ],
   "source": [
    "# Determinar si una cadena es un palíndromo\n",
    "\n",
    "def palindrome(phrase):\n",
    "    val = \" no\"\n",
    "    if list(phrase) == list(phrase)[::-1]:\n",
    "        val = \" si\"    \n",
    "    print(phrase + val + \" es una palabra palindrome\")\n",
    "    return None\n",
    "\n",
    "palindrome(\"hbbh\")"
   ]
  },
  {
   "cell_type": "code",
   "execution_count": 40,
   "metadata": {},
   "outputs": [
    {
     "name": "stdout",
     "output_type": "stream",
     "text": [
      "hbabh si es una palabra palindrome\n"
     ]
    }
   ],
   "source": [
    "# Hacer el ejercicio anterior usando un while\n",
    "\n",
    "def palindrome_while(phrase):\n",
    "    phrase_inv = ''\n",
    "    i = 1\n",
    "    while i <= len(phrase):\n",
    "        phrase_inv = phrase_inv + phrase[-i]\n",
    "        i = i + 1\n",
    "\n",
    "    if phrase_inv == phrase:\n",
    "        val = \" si\"\n",
    "    else:\n",
    "        val = \" no\"\n",
    "    print(phrase + val + \" es una palabra palindrome\")\n",
    "    return None\n",
    "\n",
    "palindrome_while(\"hbabh\")"
   ]
  },
  {
   "cell_type": "code",
   "execution_count": 46,
   "metadata": {},
   "outputs": [
    {
     "name": "stdout",
     "output_type": "stream",
     "text": [
      "A ti no bonita si es una palabra palindrome\n",
      "ATINOBONITA\n"
     ]
    }
   ],
   "source": [
    "# -Repetirlo permitiendo espacios para separar y sin distinguir mayúsculas de minúsculas\n",
    "\n",
    "def palindrome_g(phrase):\n",
    "    val = \" no\" \n",
    "    phrase_u = ''\n",
    "    for word in phrase.upper().split(' '):\n",
    "        phrase_u = phrase_u + word\n",
    "    \n",
    "    if list(phrase_u.upper()) == list(phrase_u)[::-1]:\n",
    "        val = \" si\"    \n",
    "    print(phrase + val + \" es una palabra palindrome\")\n",
    "    # print(phrase_u)\n",
    "    return None\n",
    "\n",
    "palindrome_g(\"A ti no bonita\")"
   ]
  },
  {
   "cell_type": "code",
   "execution_count": 47,
   "metadata": {},
   "outputs": [
    {
     "data": {
      "text/plain": [
       "[1, 2, 3, 4]"
      ]
     },
     "execution_count": 47,
     "metadata": {},
     "output_type": "execute_result"
    }
   ],
   "source": [
    "# -Construir la lista con los primeros elementos de cada una\n",
    "\n",
    "def list_of_lists(l):\n",
    "    i = 0\n",
    "    final_list = []\n",
    "    while i < len(l):\n",
    "        final_list.append(l[i][0])\n",
    "        i = i + 1\n",
    "\n",
    "    return final_list\n",
    "\n",
    "\n",
    "list_of_lists([[1,10,100],[2,20,200],[3,30,300],[4,40,400]])"
   ]
  },
  {
   "cell_type": "code",
   "execution_count": 48,
   "metadata": {},
   "outputs": [
    {
     "data": {
      "text/plain": [
       "[[100, 10, 1], [200, 20, 2], [300, 30, 3], [400, 40, 4]]"
      ]
     },
     "execution_count": 48,
     "metadata": {},
     "output_type": "execute_result"
    }
   ],
   "source": [
    "# Construir la lista de las listas invertidas\n",
    "def list_of_lists(l):\n",
    "    i = 0\n",
    "    final_list = []\n",
    "    while i < len(l):\n",
    "        # inv_list \n",
    "        final_list.append(l[i][::-1])\n",
    "        i = i + 1\n",
    "\n",
    "    return final_list\n",
    "\n",
    "\n",
    "list_of_lists([[1,10,100],[2,20,200],[3,30,300],[4,40,400]])"
   ]
  },
  {
   "cell_type": "markdown",
   "metadata": {},
   "source": [
    "Ejercicio: dada una lista de listas no vacías, obtener un diccionario cuya clave sea el primer elemento de cada una y cuyo valor asociado sea su correspondiente \"resto\""
   ]
  },
  {
   "cell_type": "code",
   "execution_count": 50,
   "metadata": {},
   "outputs": [
    {
     "data": {
      "text/plain": [
       "{1: [10, 100], 2: [20, 200], 3: [30, 300], 4: [40, 400]}"
      ]
     },
     "execution_count": 50,
     "metadata": {},
     "output_type": "execute_result"
    }
   ],
   "source": [
    "def dict_of_lists(l):\n",
    "    final_dict = {}\n",
    "\n",
    "    for sublist in l:\n",
    "        final_dict[sublist[0]] = sublist[1:]\n",
    "\n",
    "    return final_dict\n",
    "\n",
    "\n",
    "dict_of_lists([[1,10,100],[2,20,200],[3,30,300],[4,40,400]])"
   ]
  },
  {
   "cell_type": "markdown",
   "metadata": {},
   "source": [
    "Ejercicio: Construir, mediante un while, la lista que resulta de eliminar la sublista entre dos posiciones. Hacer una versión destructiva de la misma."
   ]
  },
  {
   "cell_type": "code",
   "execution_count": 53,
   "metadata": {},
   "outputs": [
    {
     "data": {
      "text/plain": [
       "[1, 10, 100, 3, 30, 300, 4, 40, 400]"
      ]
     },
     "execution_count": 53,
     "metadata": {},
     "output_type": "execute_result"
    }
   ],
   "source": [
    "def sub_list_while(l,i,j):\n",
    "    k = 0\n",
    "    new_list = []\n",
    "    while k < len(l):\n",
    "        if (k<i) or (k>j):\n",
    "            new_list.append(l[k])\n",
    "        k = k + 1\n",
    "    return new_list\n",
    "sub_list_while([1,10,100,2,20,200,3,30,300,4,40,400], 3,5)"
   ]
  },
  {
   "cell_type": "markdown",
   "metadata": {},
   "source": [
    "Ejercicio: Construir la lista que resulta de ordenar una lista mediante \"selección\" (buscando mínimos de forma consecutiva). Repetir el ejercicio para el método de inserción (consulta operadores del tipo lista)."
   ]
  },
  {
   "cell_type": "code",
   "execution_count": 59,
   "metadata": {},
   "outputs": [
    {
     "data": {
      "text/plain": [
       "[0, 1, 2, 3, 4, 10, 20, 30, 40, 100, 200, 300, 400]"
      ]
     },
     "execution_count": 59,
     "metadata": {},
     "output_type": "execute_result"
    }
   ],
   "source": [
    "def order_selection(l):\n",
    "    for i in range(len(l)):\n",
    "        for j in range(i+1, len(l)):\n",
    "            if l[i] > l[j]:\n",
    "                l[i], l[j] = l[j], l[i]\n",
    "\n",
    "    return(l)\n",
    "order_selection([1,10,100,2,20,200,3,30,300,4,40,400,0])"
   ]
  },
  {
   "cell_type": "markdown",
   "metadata": {},
   "source": [
    "Ejercicio: evaluamos polinomios. Nuestra representación para un polinomio es su lista de coeficientes. La lista [1,0,-2] representa 1 - 2 x**2"
   ]
  },
  {
   "cell_type": "code",
   "execution_count": null,
   "metadata": {},
   "outputs": [],
   "source": [
    "def polynomial(l, x):\n",
    "    j = 0\n",
    "    result = 0\n",
    "    for i in l:\n",
    "        result = result + i*(x**j)\n",
    "        j = j +1\n",
    "  return result"
   ]
  },
  {
   "cell_type": "code",
   "execution_count": null,
   "metadata": {},
   "outputs": [],
   "source": []
  },
  {
   "cell_type": "markdown",
   "metadata": {},
   "source": [
    "### Sesión 3"
   ]
  },
  {
   "cell_type": "code",
   "execution_count": null,
   "metadata": {},
   "outputs": [],
   "source": []
  }
 ],
 "metadata": {
  "kernelspec": {
   "display_name": "Python 3.8.10 64-bit",
   "language": "python",
   "name": "python3"
  },
  "language_info": {
   "codemirror_mode": {
    "name": "ipython",
    "version": 3
   },
   "file_extension": ".py",
   "mimetype": "text/x-python",
   "name": "python",
   "nbconvert_exporter": "python",
   "pygments_lexer": "ipython3",
   "version": "3.8.10"
  },
  "orig_nbformat": 4,
  "vscode": {
   "interpreter": {
    "hash": "916dbcbb3f70747c44a77c7bcd40155683ae19c65e1c03b4aa3499c5328201f1"
   }
  }
 },
 "nbformat": 4,
 "nbformat_minor": 2
}
