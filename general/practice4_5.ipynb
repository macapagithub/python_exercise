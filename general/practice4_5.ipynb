{
 "cells": [
  {
   "cell_type": "markdown",
   "metadata": {},
   "source": [
    "- Calcular la suma de los cuadrados de los números menores que un entero dado\n",
    "\n",
    "- Calcular la lista de los divisores de un número\n",
    "\n",
    "- Deteminar si un número es primo\n",
    "\n",
    "- Calcular los primos menores que un entero dado."
   ]
  },
  {
   "cell_type": "code",
   "execution_count": 6,
   "metadata": {},
   "outputs": [
    {
     "data": {
      "text/plain": [
       "5"
      ]
     },
     "execution_count": 6,
     "metadata": {},
     "output_type": "execute_result"
    }
   ],
   "source": [
    "def square_sum(n):\n",
    "    return sum([i**2 for i in range(n)]) \n",
    "\n",
    "def square_sum_pelo(n):\n",
    "    result = 0\n",
    "    for i in range(n):\n",
    "        result = result + i**2\n",
    "    return result\n",
    "# square_sum_pelo(3)"
   ]
  },
  {
   "cell_type": "code",
   "execution_count": 19,
   "metadata": {},
   "outputs": [
    {
     "data": {
      "text/plain": [
       "[1, 2, 5, 10]"
      ]
     },
     "execution_count": 19,
     "metadata": {},
     "output_type": "execute_result"
    }
   ],
   "source": [
    "def divisores(n):\n",
    "    return [i for i in range(1,n) if n%i == 0] + [n]\n",
    "\n",
    "def divisores_pelo(n):\n",
    "    div = []\n",
    "    for i in range(1,n):\n",
    "        if n%i == 0:\n",
    "            div.append(i)\n",
    "    return div + [n]\n",
    "divisores(10)"
   ]
  },
  {
   "cell_type": "code",
   "execution_count": 41,
   "metadata": {},
   "outputs": [
    {
     "data": {
      "text/plain": [
       "False"
      ]
     },
     "execution_count": 41,
     "metadata": {},
     "output_type": "execute_result"
    }
   ],
   "source": [
    "def primo(n):\n",
    "    return False if (len(divisores(n)) > 2) else True \n",
    "\n",
    "def primo_pelo(n):\n",
    "    p = False\n",
    "    if len(divisores(n)) > 2:\n",
    "        p = False\n",
    "    else:\n",
    "        p = True\n",
    "    return p\n",
    "primo(10)"
   ]
  },
  {
   "cell_type": "code",
   "execution_count": 37,
   "metadata": {},
   "outputs": [
    {
     "name": "stdout",
     "output_type": "stream",
     "text": [
      "Es primo\n"
     ]
    }
   ],
   "source": [
    "# def primo(n):\n",
    "#     return print(\"No es primo\") if (len(divisores(n)) > 2) else print(\"Es primo\") \n",
    "\n",
    "# def primo_pelo(n):\n",
    "#     if len(divisores(n)) > 2:\n",
    "#         print(\"No es primo\")\n",
    "#     else:\n",
    "#         print(\"Es primo\")\n",
    "#     return None\n",
    "# primo(5)"
   ]
  },
  {
   "cell_type": "code",
   "execution_count": 44,
   "metadata": {},
   "outputs": [
    {
     "data": {
      "text/plain": [
       "[2, 3, 5, 7, 11, 13]"
      ]
     },
     "execution_count": 44,
     "metadata": {},
     "output_type": "execute_result"
    }
   ],
   "source": [
    "def primos_menores(n):\n",
    "    return [i for i in range(2,n) if primo(i)] \n",
    "\n",
    "def primos_menores_pelo(n):\n",
    "    primos_m = []\n",
    "    for i in range(2,n):\n",
    "        if primo(i):\n",
    "            primos_m.append(i)\n",
    "    return primos_m\n",
    "\n",
    "primos_menores_pelo(15)"
   ]
  },
  {
   "cell_type": "code",
   "execution_count": null,
   "metadata": {},
   "outputs": [],
   "source": []
  },
  {
   "cell_type": "code",
   "execution_count": null,
   "metadata": {},
   "outputs": [],
   "source": []
  },
  {
   "cell_type": "code",
   "execution_count": null,
   "metadata": {},
   "outputs": [],
   "source": []
  },
  {
   "cell_type": "markdown",
   "metadata": {},
   "source": [
    "Crear un fichero de texto, darle mombre Pru.txt.\n",
    "Leer el contenido del fichero y convertir las lineas a notación CamelCase\n",
    "    MiMamaMeMima \n",
    "o snake_case\n",
    "    mi_mama_me_mima \n",
    "y generar los ficheros PruCamelCase.txt y Pru_snake_case.txt"
   ]
  },
  {
   "cell_type": "code",
   "execution_count": null,
   "metadata": {},
   "outputs": [],
   "source": [
    "def snake_case(file):\n",
    "  \n",
    "    with open(file) as f:\n",
    "        f = f.split(\" \")\n",
    "        f.close()\n",
    "    return (new_file)"
   ]
  },
  {
   "cell_type": "code",
   "execution_count": null,
   "metadata": {},
   "outputs": [],
   "source": []
  },
  {
   "cell_type": "code",
   "execution_count": null,
   "metadata": {},
   "outputs": [],
   "source": []
  },
  {
   "cell_type": "code",
   "execution_count": null,
   "metadata": {},
   "outputs": [],
   "source": []
  }
 ],
 "metadata": {
  "kernelspec": {
   "display_name": "Python 3.8.10 64-bit",
   "language": "python",
   "name": "python3"
  },
  "language_info": {
   "codemirror_mode": {
    "name": "ipython",
    "version": 3
   },
   "file_extension": ".py",
   "mimetype": "text/x-python",
   "name": "python",
   "nbconvert_exporter": "python",
   "pygments_lexer": "ipython3",
   "version": "3.8.10"
  },
  "orig_nbformat": 4,
  "vscode": {
   "interpreter": {
    "hash": "916dbcbb3f70747c44a77c7bcd40155683ae19c65e1c03b4aa3499c5328201f1"
   }
  }
 },
 "nbformat": 4,
 "nbformat_minor": 2
}
