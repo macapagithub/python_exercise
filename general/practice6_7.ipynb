{
  "cells": [
    {
      "cell_type": "markdown",
      "metadata": {},
      "source": [
        "### Sesión 6"
      ]
    },
    {
      "cell_type": "code",
      "execution_count": null,
      "metadata": {
        "id": "6MinGhTuOiMH"
      },
      "outputs": [],
      "source": [
        "# Rango de una lista (diferencia entre máximo y mínimo)\n",
        "#Primero el mínimo y luego el máximo.\n",
        "def maximo(l):\n",
        "  if len(l) == 1:\n",
        "    return(l[0])\n",
        "  else:\n",
        "    m = maximo(l[1:])\n",
        "    if (l[0] >= m):\n",
        "      return l[0]\n",
        "    else:\n",
        "      return m\n",
        "\n",
        "def minimo(l):\n",
        "  if len(l) == 1:\n",
        "    return(l[0])\n",
        "  else:\n",
        "    m = minimo(l[1:])\n",
        "    if (l[0] <= m):\n",
        "      return l[0]\n",
        "    else:\n",
        "      return m\n",
        "\n",
        "def rango_lista(l):\n",
        "  return maximo(l) - minimo(l)"
      ]
    },
    {
      "cell_type": "code",
      "execution_count": null,
      "metadata": {
        "colab": {
          "base_uri": "https://localhost:8080/"
        },
        "id": "8ETwmTHSJJVN",
        "outputId": "e1e9410b-df32-42ea-c820-d43e3cf56ee8"
      },
      "outputs": [
        {
          "data": {
            "text/plain": [
              "10"
            ]
          },
          "execution_count": 3,
          "metadata": {},
          "output_type": "execute_result"
        }
      ],
      "source": [
        "maximo([-1,2,8,6,7,9,4])\n",
        "minimo([-1,2,8,6,7,9,4])\n",
        "rango_lista([-1,2,8,6,7,9,4])"
      ]
    },
    {
      "cell_type": "code",
      "execution_count": null,
      "metadata": {
        "id": "beMiuxyzJu2p"
      },
      "outputs": [],
      "source": [
        "#myTake (l,n) -> l[0:n]\n",
        "def myTake():\n",
        "  new_list = []\n",
        "  if (len(l) == 0) or (len(new_list) == n):\n",
        "    return(new_list)\n",
        "  else:\n",
        "    new_list.append(l[0])\n",
        "    l.drop\n",
        "    if (l[0] <= m):\n",
        "      return l[0]\n",
        "    else:\n",
        "      return m\n"
      ]
    },
    {
      "cell_type": "code",
      "execution_count": 24,
      "metadata": {},
      "outputs": [],
      "source": [
        "# myDrop (l,n): se carga los n primeros de la lista.\n",
        "def myDrop(l,n):\n",
        "    if len(l) == 0:\n",
        "        return l\n",
        "    elif n == 0:\n",
        "        return l\n",
        "\n",
        "    return myDrop(l[1:],n-1)"
      ]
    },
    {
      "cell_type": "code",
      "execution_count": 27,
      "metadata": {},
      "outputs": [
        {
          "data": {
            "text/plain": [
              "[4, 5, 6, 7, 8, 9, 10]"
            ]
          },
          "execution_count": 27,
          "metadata": {},
          "output_type": "execute_result"
        }
      ],
      "source": [
        "l = [1,2,3,4,5,6,7,8,9,10]\n",
        "myDrop(l,3)"
      ]
    },
    {
      "cell_type": "code",
      "execution_count": null,
      "metadata": {
        "id": "A4Xt3ECJJupZ"
      },
      "outputs": [],
      "source": [
        "#Versión recursiva de sublista\n",
        "def sub_list_rec(l):\n",
        "    pass"
      ]
    },
    {
      "cell_type": "markdown",
      "metadata": {},
      "source": [
        "3. Función nombresPropios, que calcula la lista que resulta de eliminar de una lista\n",
        "de cadenas todas las que no empiezan por mayúscula."
      ]
    },
    {
      "cell_type": "code",
      "execution_count": 72,
      "metadata": {
        "id": "gOg_G6odpo9l"
      },
      "outputs": [],
      "source": [
        "def nombresPropios(l):\n",
        "    name = []\n",
        "    for nombre in l:\n",
        "        if nombre == nombre.capitalize():\n",
        "            name.append(nombre)\n",
        "            # index = l.index(nombre)\n",
        "            # print(index)\n",
        "            # l = l.pop(index)\n",
        "            # l.remove(nombre)\n",
        "    return name\n"
      ]
    },
    {
      "cell_type": "code",
      "execution_count": 73,
      "metadata": {
        "id": "m5KugbA7anWu"
      },
      "outputs": [
        {
          "data": {
            "text/plain": [
              "['Cristian', 'Luis', 'Valen']"
            ]
          },
          "execution_count": 73,
          "metadata": {},
          "output_type": "execute_result"
        }
      ],
      "source": [
        "x = ['Cristian', 'cristina', 'Luis', 'luisa', 'fran', 'carlos', 'Valen', 'sergio']\n",
        "nombresPropios(x)"
      ]
    },
    {
      "cell_type": "markdown",
      "metadata": {},
      "source": [
        "4. Producto escalar de vectores de reales (usando zip, map y reduce)"
      ]
    },
    {
      "cell_type": "code",
      "execution_count": null,
      "metadata": {},
      "outputs": [],
      "source": [
        "def produc_zip(l1,l2):\n",
        "    pass"
      ]
    },
    {
      "cell_type": "code",
      "execution_count": null,
      "metadata": {},
      "outputs": [],
      "source": [
        "# zip()\n",
        "\n",
        "# list(zip('abcdefg', range(3), range(4)))\n",
        "# [('a', 0, 0), ('b', 1, 1), ('c', 2, 2)]"
      ]
    },
    {
      "cell_type": "code",
      "execution_count": null,
      "metadata": {},
      "outputs": [],
      "source": [
        "def produc_map(l1,l2):\n",
        "    pass"
      ]
    },
    {
      "cell_type": "code",
      "execution_count": null,
      "metadata": {},
      "outputs": [],
      "source": [
        "def produc_reduce(l1,l2):\n",
        "    pass"
      ]
    },
    {
      "cell_type": "code",
      "execution_count": null,
      "metadata": {
        "id": "F8r_oTNNanT2"
      },
      "outputs": [],
      "source": []
    },
    {
      "cell_type": "markdown",
      "metadata": {},
      "source": [
        "5. Seguimos con la definición de funciones. Define:\n",
        "\n",
        "• miMap, miZip, miFilter\n",
        "\n",
        "• Usa funciones anónimas para aplicar las anteriores. Por ejemplo, una sección de mi map que calcula la suma de cuadrados de una lista o una sección de miFilter para definir de otro modo nombresPropios."
      ]
    },
    {
      "cell_type": "code",
      "execution_count": null,
      "metadata": {},
      "outputs": [],
      "source": []
    },
    {
      "cell_type": "code",
      "execution_count": null,
      "metadata": {},
      "outputs": [],
      "source": [
        "# def myzip(iter1,iter2):\n",
        "#     z = []\n",
        "#     for i in range(min(len(iter1),len(iter2))):\n",
        "#         z.append((iter1[i],iter2[i]))\n",
        "#     return tuple(z)"
      ]
    },
    {
      "cell_type": "code",
      "execution_count": null,
      "metadata": {},
      "outputs": [],
      "source": []
    },
    {
      "cell_type": "markdown",
      "metadata": {},
      "source": [
        "Desarrollar scripts Python para ordenar por mezcla:\n",
        "\n",
        "•Una serie de números introducidos por consola. \n",
        "\n",
        "•Datos leídos de un fichero, dejando el resultado en otro fichero. "
      ]
    },
    {
      "cell_type": "code",
      "execution_count": null,
      "metadata": {},
      "outputs": [],
      "source": []
    },
    {
      "cell_type": "code",
      "execution_count": null,
      "metadata": {},
      "outputs": [],
      "source": []
    },
    {
      "cell_type": "markdown",
      "metadata": {},
      "source": [
        "Ordenación por Quicksort (ya propuesta en prácticas anteriores).\n",
        "\n",
        "•Mejorarla permitiendo añadir la función de ordenación."
      ]
    },
    {
      "cell_type": "code",
      "execution_count": null,
      "metadata": {},
      "outputs": [],
      "source": []
    },
    {
      "cell_type": "code",
      "execution_count": null,
      "metadata": {},
      "outputs": [],
      "source": []
    },
    {
      "cell_type": "code",
      "execution_count": null,
      "metadata": {},
      "outputs": [],
      "source": []
    },
    {
      "cell_type": "markdown",
      "metadata": {
        "id": "xWbTG7dHao36"
      },
      "source": [
        "### Sesión 7"
      ]
    },
    {
      "cell_type": "markdown",
      "metadata": {
        "id": "KWhTfyFrawn1"
      },
      "source": [
        "1. Usar una estructura de tipo diccionario para obtener la tabla de frecuencias de las diferentes palabras en un texto. Se puede completar el trabajo ordenando dicha tabla en orden decreciente de frecuencias."
      ]
    },
    {
      "cell_type": "code",
      "execution_count": 18,
      "metadata": {
        "id": "OLQT8aShanPq"
      },
      "outputs": [
        {
          "data": {
            "text/plain": [
              "{'Habia': 1,\n",
              " 'una': 1,\n",
              " 'vez': 1,\n",
              " 'un': 1,\n",
              " 'barquito': 1,\n",
              " 'que': 2,\n",
              " 'no': 2,\n",
              " 'podia,': 1}"
            ]
          },
          "execution_count": 18,
          "metadata": {},
          "output_type": "execute_result"
        }
      ],
      "source": [
        "def count_word(fichero):\n",
        "  \"\"\"\n",
        "  This function counts the number of times a word appears on a file.\n",
        "  \"\"\"\n",
        "  f = open(fichero,'r')\n",
        "  file = f.readlines()\n",
        "  f.close()\n",
        "  words = {}\n",
        "  for lines in file:\n",
        "    # print(lines)\n",
        "    line = lines.split(' ')\n",
        "    for word in line[:-1]:\n",
        "      if word in words:\n",
        "        words[word] = words[word] + 1\n",
        "      else:\n",
        "        words[word] = 1\n",
        "  return words\n",
        "\n",
        "count_word('mifich.txt')\n"
      ]
    },
    {
      "cell_type": "code",
      "execution_count": 27,
      "metadata": {},
      "outputs": [
        {
          "data": {
            "text/plain": [
              "dict_keys(['Habia', 'una', 'vez', 'un', 'barquito', 'que', 'no', 'podia,'])"
            ]
          },
          "execution_count": 27,
          "metadata": {},
          "output_type": "execute_result"
        }
      ],
      "source": [
        "w = count_word('mifich.txt')\n",
        "w.keys()\n",
        "# list(w)[4]"
      ]
    },
    {
      "cell_type": "code",
      "execution_count": 32,
      "metadata": {},
      "outputs": [
        {
          "data": {
            "text/plain": [
              "{'que': 2, 'no': 2, 'Habia': 1, 'una': 1, 'vez': 1}"
            ]
          },
          "execution_count": 32,
          "metadata": {},
          "output_type": "execute_result"
        }
      ],
      "source": [
        "def order_words(word_dict, n):\n",
        "    \"\"\"\n",
        "    Args:\n",
        "        word_dict (dict): diccionario generado de un fichero.\n",
        "        n (int): El numero de palabras que mas aparece. \n",
        "\n",
        "    Returns:\n",
        "        dict: Un diccionario con el número n de letras que mas aparece.\n",
        "    \"\"\"\n",
        "    words = word_dict.copy()\n",
        "    new_words = {}\n",
        "    for i in range(len(words)):\n",
        "        x = max(words.values())\n",
        "        index = list(words.values()).index(x)\n",
        "        word = list(words)[index]\n",
        "        new_words[word] = words[word]\n",
        "        del words[word]\n",
        "        # i = len(words)\n",
        "        for i in list(new_words.keys())[n:]:\n",
        "            new_words.pop(i)\n",
        "            # i = i - 1\n",
        "    return new_words\n",
        "\n",
        "order_words(w,5)"
      ]
    },
    {
      "cell_type": "code",
      "execution_count": null,
      "metadata": {
        "id": "Fm1ofqH-mEoi"
      },
      "outputs": [],
      "source": []
    },
    {
      "cell_type": "markdown",
      "metadata": {},
      "source": [
        "2. Diseñar un pequeño script para dividir en varios ficheros (tablas) los datos que\n",
        "aparecen en un fichero (los nombres de las tablas se obtienen de la primera línea)."
      ]
    },
    {
      "cell_type": "code",
      "execution_count": 19,
      "metadata": {
        "id": "jC4xBR9fk3jz"
      },
      "outputs": [
        {
          "name": "stdout",
          "output_type": "stream",
          "text": [
            "[['dni', '16232333', '16232332', '16232328'], ['nombre', 'pepe', 'paco', 'marta'], ['edad', '30', '37', '34'], ['peso\\n', '75\\n', '68\\n', '45\\n']]\n"
          ]
        }
      ],
      "source": [
        "def separation_script(fichero):\n",
        "    f = open(fichero,'r')\n",
        "    f = f.readlines()\n",
        "    f = [string.split(' ') for string in f]\n",
        "    separation = [[l[i] for l in f] for i in range(len(f))]\n",
        "    print(separation)\n",
        "\n",
        "    # Create files\n",
        "    for file in separation:\n",
        "        name_file = open(file[0], 'w')\n",
        "        for line in file:\n",
        "            name_file.write(line)\n",
        "            if '\\in' not in line:\n",
        "                name_file.write('\\n')\n",
        "        name_file.close()        \n",
        "\n",
        "separation_script('datos.txt')"
      ]
    },
    {
      "cell_type": "code",
      "execution_count": null,
      "metadata": {},
      "outputs": [],
      "source": []
    },
    {
      "cell_type": "markdown",
      "metadata": {},
      "source": [
        "3. EJERCICIO OPCIONAL \n",
        "Utilizando map, filter y reduce:\n",
        "• Borrar un elemento de una lista"
      ]
    },
    {
      "cell_type": "code",
      "execution_count": null,
      "metadata": {},
      "outputs": [],
      "source": []
    },
    {
      "cell_type": "markdown",
      "metadata": {},
      "source": [
        "• Desarrollar el reverse de una lista"
      ]
    },
    {
      "cell_type": "code",
      "execution_count": null,
      "metadata": {},
      "outputs": [],
      "source": []
    },
    {
      "cell_type": "markdown",
      "metadata": {},
      "source": [
        "• Traspuesta de una matriz"
      ]
    },
    {
      "cell_type": "code",
      "execution_count": 6,
      "metadata": {},
      "outputs": [
        {
          "data": {
            "text/plain": [
              "[[1, 3], [2, 4], [5, 6]]"
            ]
          },
          "execution_count": 6,
          "metadata": {},
          "output_type": "execute_result"
        }
      ],
      "source": [
        "def matrix_tra(A):\n",
        "    return [[line[i] for line in A] for i in range(len(A[0]))]\n",
        "\n",
        "matrix_tra([[1,2,5],[3,4,6]])"
      ]
    }
  ],
  "metadata": {
    "colab": {
      "provenance": []
    },
    "kernelspec": {
      "display_name": "Python 3.8.10 64-bit",
      "language": "python",
      "name": "python3"
    },
    "language_info": {
      "codemirror_mode": {
        "name": "ipython",
        "version": 3
      },
      "file_extension": ".py",
      "mimetype": "text/x-python",
      "name": "python",
      "nbconvert_exporter": "python",
      "pygments_lexer": "ipython3",
      "version": "3.8.10"
    },
    "vscode": {
      "interpreter": {
        "hash": "916dbcbb3f70747c44a77c7bcd40155683ae19c65e1c03b4aa3499c5328201f1"
      }
    }
  },
  "nbformat": 4,
  "nbformat_minor": 0
}
