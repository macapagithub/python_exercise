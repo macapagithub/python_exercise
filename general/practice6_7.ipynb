{
  "cells": [
    {
      "cell_type": "code",
      "execution_count": null,
      "metadata": {
        "id": "6MinGhTuOiMH"
      },
      "outputs": [],
      "source": [
        "# Rango de una lista (diferencia entre máximo y mínimo)\n",
        "#Primero el mínimo y luego el máximo.\n",
        "def maximo(l):\n",
        "  if len(l) == 1:\n",
        "    return(l[0])\n",
        "  else:\n",
        "    m = maximo(l[1:])\n",
        "    if (l[0] >= m):\n",
        "      return l[0]\n",
        "    else:\n",
        "      return m\n",
        "\n",
        "def minimo(l):\n",
        "  if len(l) == 1:\n",
        "    return(l[0])\n",
        "  else:\n",
        "    m = minimo(l[1:])\n",
        "    if (l[0] <= m):\n",
        "      return l[0]\n",
        "    else:\n",
        "      return m\n",
        "\n",
        "def rango_lista(l):\n",
        "  return maximo(l) - minimo(l)"
      ]
    },
    {
      "cell_type": "code",
      "execution_count": null,
      "metadata": {
        "colab": {
          "base_uri": "https://localhost:8080/"
        },
        "id": "8ETwmTHSJJVN",
        "outputId": "e1e9410b-df32-42ea-c820-d43e3cf56ee8"
      },
      "outputs": [
        {
          "data": {
            "text/plain": [
              "10"
            ]
          },
          "execution_count": 3,
          "metadata": {},
          "output_type": "execute_result"
        }
      ],
      "source": [
        "maximo([-1,2,8,6,7,9,4])\n",
        "minimo([-1,2,8,6,7,9,4])\n",
        "rango_lista([-1,2,8,6,7,9,4])"
      ]
    },
    {
      "cell_type": "code",
      "execution_count": null,
      "metadata": {
        "id": "beMiuxyzJu2p"
      },
      "outputs": [],
      "source": [
        "#myTake (l,n) -> l[0:n]\n",
        "def myTake():\n",
        "  new_list = []\n",
        "  if (len(l) == 0) or (len(new_list) == n):\n",
        "    return(new_list)\n",
        "  else:\n",
        "    new_list.append(l[0])\n",
        "    l.drop\n",
        "    if (l[0] <= m):\n",
        "      return l[0]\n",
        "    else:\n",
        "      return m\n"
      ]
    },
    {
      "cell_type": "code",
      "execution_count": null,
      "metadata": {},
      "outputs": [],
      "source": []
    },
    {
      "cell_type": "code",
      "execution_count": null,
      "metadata": {
        "id": "A4Xt3ECJJupZ"
      },
      "outputs": [],
      "source": [
        "def myDrop():\n",
        "    pass"
      ]
    },
    {
      "cell_type": "code",
      "execution_count": null,
      "metadata": {
        "id": "gOg_G6odpo9l"
      },
      "outputs": [],
      "source": []
    },
    {
      "cell_type": "code",
      "execution_count": null,
      "metadata": {
        "id": "m5KugbA7anWu"
      },
      "outputs": [],
      "source": []
    },
    {
      "cell_type": "code",
      "execution_count": null,
      "metadata": {
        "id": "F8r_oTNNanT2"
      },
      "outputs": [],
      "source": []
    },
    {
      "cell_type": "markdown",
      "metadata": {
        "id": "xWbTG7dHao36"
      },
      "source": [
        "##Sesión 7"
      ]
    },
    {
      "cell_type": "markdown",
      "metadata": {
        "id": "KWhTfyFrawn1"
      },
      "source": [
        "1. Usar una estructura de tipo diccionario para obtener la tabla de frecuencias de las diferentes palabras en un texto. Se puede completar el trabajo ordenando dicha tabla en orden decreciente de frecuencias."
      ]
    },
    {
      "cell_type": "code",
      "execution_count": null,
      "metadata": {
        "id": "OLQT8aShanPq"
      },
      "outputs": [],
      "source": [
        "def count_word(fichero):\n",
        "  \"\"\"\n",
        "  This function counts the number of times a word appears on a file.\n",
        "  \"\"\"\n",
        "  f = open(fichero,'r')\n",
        "  file = f.readlines()\n",
        "  f.close()\n",
        "  words = {}\n",
        "  for lines in file:\n",
        "    print(lines)\n",
        "    line = lines.split(' ')\n",
        "    for word in line[:-1]:\n",
        "      if word in words:\n",
        "        words[word] = words[word] + 1\n",
        "      else:\n",
        "        words[word] = 1\n",
        "  return words\n"
      ]
    },
    {
      "cell_type": "code",
      "execution_count": null,
      "metadata": {
        "id": "Fm1ofqH-mEoi"
      },
      "outputs": [],
      "source": [
        "# count_word('ejemplo.txt')"
      ]
    },
    {
      "cell_type": "code",
      "execution_count": null,
      "metadata": {
        "id": "jC4xBR9fk3jz"
      },
      "outputs": [],
      "source": []
    }
  ],
  "metadata": {
    "colab": {
      "provenance": []
    },
    "kernelspec": {
      "display_name": "Python 3.8.10 64-bit",
      "language": "python",
      "name": "python3"
    },
    "language_info": {
      "name": "python",
      "version": "3.8.10"
    },
    "vscode": {
      "interpreter": {
        "hash": "916dbcbb3f70747c44a77c7bcd40155683ae19c65e1c03b4aa3499c5328201f1"
      }
    }
  },
  "nbformat": 4,
  "nbformat_minor": 0
}
