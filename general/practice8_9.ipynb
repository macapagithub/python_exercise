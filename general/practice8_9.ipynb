{
  "cells": [
    {
      "cell_type": "markdown",
      "metadata": {
        "id": "SkCoSeBY19rp"
      },
      "source": [
        "Ejercicio:\n",
        "\n",
        "Haz una clase Punto para representar puntos del espacio. Sobrecargar los operadores:str,rep y add (se usa con +),"
      ]
    },
    {
      "cell_type": "code",
      "execution_count": 14,
      "metadata": {
        "id": "hPxDzI8Y2Evh"
      },
      "outputs": [],
      "source": [
        "class Punto:\n",
        "    def __init__(self, x = 0,y = 0,z = 0):\n",
        "        self.x = x\n",
        "        self.y = y\n",
        "        self.z = z\n",
        "\n",
        "    def __str__(self):\n",
        "        \"\"\"lo devuelto por print() y str()\"\"\"\n",
        "        return (f'Punto en el espacio de coordenadas ({self.x},{self.y},{self.z})')\n",
        "    def __repr__(self):\n",
        "        \"\"\"String de representación interna\"\"\"\n",
        "        return (f'<Punto>: coordenadas ({self.x},{self.y},{self.z})')\n",
        "    def __add__(self, x = 0,y = 0,z = 0):\n",
        "        \"\"\"Suma el punto con un punto externo\"\"\"\n",
        "        return (self.x+x,self.y+y,self.z+z)\n",
        "\n",
        "    def abscisa(self):\n",
        "        return (self.x)\n",
        "    def ordenada(self):\n",
        "        return (self.y)\n",
        "    def cota(self):\n",
        "        return (self.z)\n",
        "\n"
      ]
    },
    {
      "cell_type": "code",
      "execution_count": 15,
      "metadata": {
        "colab": {
          "base_uri": "https://localhost:8080/"
        },
        "id": "636hTin0Y_sa",
        "outputId": "32437830-db15-4b0d-d38b-af1f686bc797"
      },
      "outputs": [
        {
          "data": {
            "text/plain": [
              "3"
            ]
          },
          "execution_count": 15,
          "metadata": {},
          "output_type": "execute_result"
        }
      ],
      "source": [
        "punto1 = Punto(1,2,3)\n",
        "punto2 = Punto(2,3,4)\n",
        "punto1.cota()"
      ]
    },
    {
      "cell_type": "code",
      "execution_count": 16,
      "metadata": {
        "colab": {
          "base_uri": "https://localhost:8080/"
        },
        "id": "xptHR35ajNXE",
        "outputId": "b7400093-148c-4168-f2f9-37485ca447e9"
      },
      "outputs": [
        {
          "data": {
            "text/plain": [
              "(3, 4, 5)"
            ]
          },
          "execution_count": 16,
          "metadata": {},
          "output_type": "execute_result"
        }
      ],
      "source": [
        "punto1.__add__(2,2,2)"
      ]
    },
    {
      "cell_type": "markdown",
      "metadata": {},
      "source": [
        "Crear una clase segmento."
      ]
    },
    {
      "cell_type": "code",
      "execution_count": 31,
      "metadata": {},
      "outputs": [],
      "source": [
        "class Segmento():\n",
        "    \n",
        "    def __init__(self, origen, destino):\n",
        "        self.origen = origen\n",
        "        self.destino = destino\n",
        "\n",
        "    def __str__(self):\n",
        "        \"\"\"lo devuelto por print() y str()\"\"\"\n",
        "        return (f'Segmento con origen y destino ({self.origen},{self.destino})')\n",
        "\n",
        "    def __repr__(self):\n",
        "        \"\"\"String de representación interna\"\"\"\n",
        "        return f\"<Segmento>: Origen {self.origen} y destino {self.destino}\"\n",
        "\n",
        "\n",
        "    # def __add__(self, x = 0,y = 0,z = 0):\n",
        "    #     \"\"\"Suma el punto con un punto externo\"\"\"\n",
        "    #     return (self.x+x,self.y+y,self.z+z)\n",
        "\n",
        "    def origen(self):\n",
        "        return (self.origen)\n",
        "    def destino(self):\n",
        "        return (self.destino)\n",
        "        \n",
        "    def longitud(self):\n",
        "        lon = ((self.destino.abscisa()-self.origen.abscisa())**2+(self.destino.ordenada() - self.origen.ordenada())**2+(self.destino.cota() - self.origen.cota())**2)**(1/2)\n",
        "        return round(lon, 5) "
      ]
    },
    {
      "cell_type": "code",
      "execution_count": 32,
      "metadata": {},
      "outputs": [
        {
          "data": {
            "text/plain": [
              "1.73205"
            ]
          },
          "execution_count": 32,
          "metadata": {},
          "output_type": "execute_result"
        }
      ],
      "source": [
        "segmento1 = Segmento(punto1, punto2)\n",
        "segmento1.longitud()"
      ]
    },
    {
      "cell_type": "markdown",
      "metadata": {},
      "source": [
        "Haz una clase camino (secuencia ordenada de segmentos \"compatibles\"). Dotarla de métodos para calcular la longitud de un camino, para concatenar caminos,... "
      ]
    },
    {
      "cell_type": "code",
      "execution_count": 33,
      "metadata": {},
      "outputs": [],
      "source": [
        "class Camino:\n",
        "    def __init__(self, segmentos):\n",
        "        self.segmentos = segmentos\n",
        "\n",
        "    def __str__(self):\n",
        "        \"\"\"lo devuelto por print() y str()\"\"\"\n",
        "        return (f'Camino que empieza y termina en ({self.segmentos[0].origen},{self.segmentos[-1].destino})')\n",
        "\n",
        "    def __repr__(self):\n",
        "        \"\"\"String de representación interna\"\"\"\n",
        "        return f\"<Camino>: Origen {self.segmentos[0].origen} y destino {self.segmentos[-1].destino}\"\n",
        "\n",
        "    def __add__(self, camino):\n",
        "        \"\"\"Junta el camino con un camino externo\"\"\"\n",
        "        if self.camino.destino == camino.origen:\n",
        "            return self.segmentos + camino.segmentos\n",
        "\n",
        "    def punto_origen(self):\n",
        "        return (self.segmentos[0])\n",
        "    def punto_final(self):\n",
        "        return (self.segmentos[-1])\n",
        "\n",
        "    def origen(self):\n",
        "        return (self.segmentos[0].origen)\n",
        "    def destino(self):\n",
        "        return (self.segmentos[-1].destino)\n",
        "        \n",
        "    def longitud(self):\n",
        "        lon = ((self.destino.abscisa()-self.origen.abscisa())**2+(self.destino.ordenada() - self.origen.ordenada())**2+(self.destino.cota() - self.origen.cota())**2)**(1/2)\n",
        "        return round(lon, 5) "
      ]
    },
    {
      "cell_type": "code",
      "execution_count": null,
      "metadata": {},
      "outputs": [],
      "source": []
    },
    {
      "cell_type": "code",
      "execution_count": null,
      "metadata": {},
      "outputs": [],
      "source": []
    },
    {
      "cell_type": "markdown",
      "metadata": {
        "id": "fICHM4E20IJ3"
      },
      "source": [
        "##### Ejercicio:\n",
        "Crea una clase llamada Fichero (ruta y contenido).\n",
        "Como métodos:\n",
        "\n",
        "        - leer_fichero, que leerá el fichero dado por el atributo ruta y guardará su contenido en el atributo texto.\n",
        "        - mostrar_fichero, que imprimirá por pantalla el texto del fichero leído.\n",
        "        - modificarMay (cambia el texto a mayúsculas)\n"
      ]
    },
    {
      "cell_type": "code",
      "execution_count": 26,
      "metadata": {
        "id": "FE6vvf3n0AGt"
      },
      "outputs": [],
      "source": [
        "class Fichero:\n",
        "\n",
        "    def __init__(self,ruta):\n",
        "        self.ruta = ruta\n",
        "        self.texto = (open(self.ruta)).readlines()\n",
        "\n",
        "    def mostrar(self):\n",
        "        for line in self.texto:\n",
        "            print(line)\n",
        "\n",
        "    def modificarMay(self):\n",
        "        for index, line in enumerate(self.texto):\n",
        "            self.texto[index] = line.upper()"
      ]
    },
    {
      "cell_type": "code",
      "execution_count": 27,
      "metadata": {
        "id": "dbQ562Vf11wU"
      },
      "outputs": [
        {
          "name": "stdout",
          "output_type": "stream",
          "text": [
            "['HOLA ESPERO\\n', 'QUE ESTE LEYENDO \\n', 'BIEN']\n"
          ]
        }
      ],
      "source": [
        "ficheroEjemplo = Fichero(ruta='ejemplo.txt')\n",
        "ficheroEjemplo.modificarMay()\n"
      ]
    },
    {
      "cell_type": "markdown",
      "metadata": {
        "id": "WQV-wqwOUDfo"
      },
      "source": [
        "### Entrega 9"
      ]
    },
    {
      "cell_type": "markdown",
      "metadata": {
        "id": "t7XXmdMSUMmr"
      },
      "source": [
        "1.\n",
        "Dada una matriz, calcular la matriz de sus cuadrados (usando map)"
      ]
    },
    {
      "cell_type": "code",
      "execution_count": 2,
      "metadata": {
        "id": "SGle6HNrUGVk"
      },
      "outputs": [],
      "source": [
        "def square_function(x):\n",
        "    return x**2\n",
        "\n",
        "def square_matrix(A):\n",
        "    A_square = []\n",
        "    for row in A:\n",
        "      A_square.append(list(map(square_function,row)))\n",
        "    return A_square"
      ]
    },
    {
      "cell_type": "code",
      "execution_count": 3,
      "metadata": {
        "colab": {
          "base_uri": "https://localhost:8080/"
        },
        "id": "uVuL9DFbXlNm",
        "outputId": "4319bc63-dfa0-47d5-b3c6-f263fe906db5"
      },
      "outputs": [
        {
          "data": {
            "text/plain": [
              "[[1, 4], [9, 16]]"
            ]
          },
          "execution_count": 3,
          "metadata": {},
          "output_type": "execute_result"
        }
      ],
      "source": [
        "square_matrix([[1,2],[3,4]])"
      ]
    },
    {
      "cell_type": "markdown",
      "metadata": {
        "id": "KbWrEp-yUPwx"
      },
      "source": [
        "2. Dada una matriz calcular la matriz que resulta de eliminar sus filas nulas (las que\n",
        "sólo contienen 0’s). Repetir el ejercicio con las columnas."
      ]
    },
    {
      "cell_type": "code",
      "execution_count": 3,
      "metadata": {
        "id": "G_PGc9W0UQro"
      },
      "outputs": [],
      "source": [
        "def delete_cero(A):\n",
        "    for row in A:\n",
        "        if row == [0]*len(A[0]):\n",
        "            A.pop(A.index(row))\n",
        "    return A"
      ]
    },
    {
      "cell_type": "code",
      "execution_count": 5,
      "metadata": {
        "colab": {
          "base_uri": "https://localhost:8080/"
        },
        "id": "eekFH7d_ZURJ",
        "outputId": "f8762dbc-331d-448c-c122-608775c4798a"
      },
      "outputs": [
        {
          "data": {
            "text/plain": [
              "[[1, 2, 3], [2, 0, 0]]"
            ]
          },
          "execution_count": 5,
          "metadata": {},
          "output_type": "execute_result"
        }
      ],
      "source": [
        "delete_cero([[1,2,3],[0,0,0],[2,0,0]])"
      ]
    },
    {
      "cell_type": "code",
      "execution_count": 6,
      "metadata": {},
      "outputs": [
        {
          "data": {
            "text/plain": [
              "[[1, 2], [3, 4], [5, 6]]"
            ]
          },
          "execution_count": 6,
          "metadata": {},
          "output_type": "execute_result"
        }
      ],
      "source": [
        "def delete_cero_columns(A):\n",
        "    B = [[line[i] for line in A] for i in range(len(A[0]))]\n",
        "    B = delete_cero(B)\n",
        "    B = [[line[i] for line in B] for i in range(len(B[0]))]\n",
        "    return B\n",
        "delete_cero_columns([[1,2,0],[3,4,0],[5,6,0]])"
      ]
    },
    {
      "cell_type": "markdown",
      "metadata": {
        "id": "8b1jHQRfUTf2"
      },
      "source": [
        "3. Calcular la diferencia entre el máximo y el mínimo (no se pide versión\n",
        "recursiva)."
      ]
    },
    {
      "cell_type": "code",
      "execution_count": 6,
      "metadata": {
        "id": "mJ9VEjvxUeBT"
      },
      "outputs": [],
      "source": [
        "def max_matrix(A):\n",
        "    m = max(A[0])\n",
        "    for row in A:\n",
        "        if m < max(row):\n",
        "            m = max(row)\n",
        "    return m"
      ]
    },
    {
      "cell_type": "code",
      "execution_count": 7,
      "metadata": {
        "colab": {
          "base_uri": "https://localhost:8080/"
        },
        "id": "JDbKnA0mdwlP",
        "outputId": "fd728cb6-020f-4f75-9de6-43434a0b5551"
      },
      "outputs": [
        {
          "data": {
            "text/plain": [
              "5"
            ]
          },
          "execution_count": 7,
          "metadata": {},
          "output_type": "execute_result"
        }
      ],
      "source": [
        "max_matrix([[1,2,3],[0,5,0],[2,0,0]])"
      ]
    },
    {
      "cell_type": "code",
      "execution_count": 8,
      "metadata": {
        "id": "VPAZCKLvd6f-"
      },
      "outputs": [],
      "source": [
        "def min_matrix(A):\n",
        "    m = min(A[0])\n",
        "    for row in A:\n",
        "        if m > min(row):\n",
        "            m = min(row)\n",
        "    return m"
      ]
    },
    {
      "cell_type": "code",
      "execution_count": 9,
      "metadata": {
        "colab": {
          "base_uri": "https://localhost:8080/"
        },
        "id": "_OT0AOW7c1VK",
        "outputId": "3cf51927-1b16-4f08-8770-460c2db0165a"
      },
      "outputs": [
        {
          "data": {
            "text/plain": [
              "-1"
            ]
          },
          "execution_count": 9,
          "metadata": {},
          "output_type": "execute_result"
        }
      ],
      "source": [
        "min_matrix([[1,2,3],[0,5,-1],[2,0,0]])"
      ]
    },
    {
      "cell_type": "markdown",
      "metadata": {
        "id": "p_1MXRv-UeeF"
      },
      "source": [
        "4. Calcula una submatriz a partir de:\n",
        "• dos listas (índices de fila y de columna)."
      ]
    },
    {
      "cell_type": "code",
      "execution_count": 21,
      "metadata": {
        "id": "zAjGkGFCeLVV"
      },
      "outputs": [],
      "source": [
        "def sub_matrix2(A, i, j):\n",
        "    if (i + 1 <= len(A[0])) and (j + 1 <= len(A)):\n",
        "        B = [[0,0],[0,0]]\n",
        "        B[0][0] = A[i-1][i-1]\n",
        "        B[0][1] = A[i-1][j-1]\n",
        "        B[1][0] = A[j-1][i-1]\n",
        "        B[1][1] = A[j-1][j-1]\n",
        "    else:\n",
        "        print(\"Los valores de 'i' y 'j' deben ser mayores a las filas y columnas de la matriz.\")\n",
        "    return B"
      ]
    },
    {
      "cell_type": "code",
      "execution_count": 22,
      "metadata": {
        "colab": {
          "base_uri": "https://localhost:8080/",
          "height": 289
        },
        "id": "QoIpe87wUkqE",
        "outputId": "1a532444-2f4e-4f5e-e297-d07d480b5aa8"
      },
      "outputs": [
        {
          "data": {
            "text/plain": [
              "[[1, 1], [3, 3]]"
            ]
          },
          "execution_count": 22,
          "metadata": {},
          "output_type": "execute_result"
        }
      ],
      "source": [
        "sub_matrix2([[1,1,1,1],[2,2,2,2],[3,3,3,3],[4,4,4,4],[5,5,5,5]], i=1, j=3)"
      ]
    },
    {
      "cell_type": "markdown",
      "metadata": {
        "id": "3lvJGH3gUlMI"
      },
      "source": [
        "4. Calcula una submatriz a partir de:\n",
        "• Dos índices (filas y columnas entre esos dos índices)"
      ]
    },
    {
      "cell_type": "code",
      "execution_count": 25,
      "metadata": {
        "id": "yTKl6V0oeK4P"
      },
      "outputs": [],
      "source": [
        "def sub_matrix(A, i, j):\n",
        "    B = []\n",
        "    for row in A[i-1:j]:\n",
        "        B.append(row[i-1:j])\n",
        "    return B"
      ]
    },
    {
      "cell_type": "code",
      "execution_count": 26,
      "metadata": {
        "colab": {
          "base_uri": "https://localhost:8080/"
        },
        "id": "pJ_dZHL5i91M",
        "outputId": "25289eae-eecf-4f2c-dce3-cba5f941081b"
      },
      "outputs": [
        {
          "data": {
            "text/plain": [
              "[[1, 1, 1], [2, 2, 2], [3, 3, 3]]"
            ]
          },
          "execution_count": 26,
          "metadata": {},
          "output_type": "execute_result"
        }
      ],
      "source": [
        "sub_matrix([[1,1,1,1],[2,2,2,2],[3,3,3,3],[4,4,4,4],[5,5,5,5]], i = 1, j =3)"
      ]
    },
    {
      "cell_type": "code",
      "execution_count": null,
      "metadata": {
        "id": "hV0ZLQdBeKaC"
      },
      "outputs": [],
      "source": []
    }
  ],
  "metadata": {
    "colab": {
      "provenance": []
    },
    "kernelspec": {
      "display_name": "Python 3.8.10 64-bit",
      "language": "python",
      "name": "python3"
    },
    "language_info": {
      "codemirror_mode": {
        "name": "ipython",
        "version": 3
      },
      "file_extension": ".py",
      "mimetype": "text/x-python",
      "name": "python",
      "nbconvert_exporter": "python",
      "pygments_lexer": "ipython3",
      "version": "3.8.10"
    },
    "vscode": {
      "interpreter": {
        "hash": "916dbcbb3f70747c44a77c7bcd40155683ae19c65e1c03b4aa3499c5328201f1"
      }
    }
  },
  "nbformat": 4,
  "nbformat_minor": 0
}
