{
  "nbformat": 4,
  "nbformat_minor": 0,
  "metadata": {
    "colab": {
      "provenance": []
    },
    "kernelspec": {
      "name": "python3",
      "display_name": "Python 3"
    },
    "language_info": {
      "name": "python"
    }
  },
  "cells": [
    {
      "cell_type": "markdown",
      "source": [
        "Ejercicio:\n",
        "\n",
        "Haz una clase Punto para representar puntos del espacio. Sobrecargar los operadores:str,rep y add (se usa con +),"
      ],
      "metadata": {
        "id": "SkCoSeBY19rp"
      }
    },
    {
      "cell_type": "code",
      "source": [
        "class Punto:\n",
        "    def __init__(self, x = 0,y = 0,z = 0):\n",
        "        self.x = x\n",
        "        self.y = y\n",
        "        self.z = z\n",
        "    def __str__(self):\n",
        "        \"\"\"lo devuelto por print() y str()\"\"\"\n",
        "        return (f'Punto en el espacio de coordenadas ({self.x},{self.y},{self.z})')\n",
        "    def __repr__(self):\n",
        "        \"\"\"String de representación interna\"\"\"\n",
        "        return (f'<Punto>: coordenadas ({self.x},{self.y},{self.z})')\n",
        "    def __add__(self, x = 0,y = 0,z = 0):\n",
        "        \"\"\"Suma el punto con un punto externo\"\"\"\n",
        "        return (self.x+x,self.y+y,self.z+z)\n"
      ],
      "metadata": {
        "id": "hPxDzI8Y2Evh"
      },
      "execution_count": null,
      "outputs": []
    },
    {
      "cell_type": "code",
      "source": [
        "punto1 = Punto(1,2,3)\n",
        "punto1.x"
      ],
      "metadata": {
        "colab": {
          "base_uri": "https://localhost:8080/"
        },
        "id": "636hTin0Y_sa",
        "outputId": "32437830-db15-4b0d-d38b-af1f686bc797"
      },
      "execution_count": null,
      "outputs": [
        {
          "output_type": "execute_result",
          "data": {
            "text/plain": [
              "1"
            ]
          },
          "metadata": {},
          "execution_count": 56
        }
      ]
    },
    {
      "cell_type": "code",
      "source": [
        "punto1.__add__(2,2,2)"
      ],
      "metadata": {
        "colab": {
          "base_uri": "https://localhost:8080/"
        },
        "id": "xptHR35ajNXE",
        "outputId": "b7400093-148c-4168-f2f9-37485ca447e9"
      },
      "execution_count": null,
      "outputs": [
        {
          "output_type": "execute_result",
          "data": {
            "text/plain": [
              "(3, 4, 5)"
            ]
          },
          "metadata": {},
          "execution_count": 57
        }
      ]
    },
    {
      "cell_type": "markdown",
      "source": [
        "##### Ejercicio: \n",
        "Haz una clase camino (secuencia ordenada de segmentos \"compatibles\"). \n",
        "Dotarla de métodos para calcular la longitud de un camino, para concatenar caminos,... "
      ],
      "metadata": {
        "id": "xZ1nuGgB0F7-"
      }
    },
    {
      "cell_type": "code",
      "source": [
        "class Camino:\n",
        "    def __init__(self, puntos):\n",
        "        self.puntos = puntos\n",
        "        \n",
        "    def __str__(self):\n",
        "        \"\"\"lo devuelto por print() y str()\"\"\"\n",
        "        return None\n",
        "    def __repr__(self):\n",
        "        \"\"\"String de representación interna\"\"\"\n",
        "        return None\n",
        "    def __add__(self, x = 0,y = 0,z = 0):\n",
        "        \"\"\"Suma el camino con otro camino externo\"\"\"\n",
        "        return None\n"
      ],
      "metadata": {
        "id": "J-cIeBhBf7Um"
      },
      "execution_count": null,
      "outputs": []
    },
    {
      "cell_type": "code",
      "source": [],
      "metadata": {
        "id": "-DhklmZWjI3j"
      },
      "execution_count": null,
      "outputs": []
    },
    {
      "cell_type": "code",
      "source": [],
      "metadata": {
        "id": "tUC7fN4-jI0Z"
      },
      "execution_count": null,
      "outputs": []
    },
    {
      "cell_type": "code",
      "source": [],
      "metadata": {
        "id": "8-9osY16f6_0"
      },
      "execution_count": null,
      "outputs": []
    },
    {
      "cell_type": "code",
      "source": [
        "3*(1,2,3)"
      ],
      "metadata": {
        "colab": {
          "base_uri": "https://localhost:8080/"
        },
        "id": "0J58-l6rf67E",
        "outputId": "de469ca6-9e29-42ff-84d2-3cd6d626128b"
      },
      "execution_count": null,
      "outputs": [
        {
          "output_type": "execute_result",
          "data": {
            "text/plain": [
              "(1, 2, 3, 1, 2, 3, 1, 2, 3)"
            ]
          },
          "metadata": {},
          "execution_count": 14
        }
      ]
    },
    {
      "cell_type": "markdown",
      "source": [
        "##### Ejercicio:\n",
        "Crea una clase llamada Fichero (ruta y contenido).\n",
        "Como métodos:\n",
        "\n",
        "        - leer_fichero, que leerá el fichero dado por el atributo ruta y guardará su contenido en el atributo texto.\n",
        "        - mostrar_fichero, que imprimirá por pantalla el texto del fichero leído.\n",
        "        - modificarMay (cambia el texto a mayúsculas)\n"
      ],
      "metadata": {
        "id": "fICHM4E20IJ3"
      }
    },
    {
      "cell_type": "code",
      "execution_count": null,
      "metadata": {
        "id": "FE6vvf3n0AGt"
      },
      "outputs": [],
      "source": [
        "class Fichero:\n",
        "\n",
        "    def __init__(self):\n",
        "        self.texto = texto    \n",
        "\n",
        "\n",
        "    def mostrar(self):\n",
        "      return None #Imprime el fichero el pantalla.\n",
        "      f = open(fichero,'r')\n",
        "      file = f.readlines()\n",
        "      f.close()"
      ]
    },
    {
      "cell_type": "code",
      "source": [],
      "metadata": {
        "id": "dbQ562Vf11wU"
      },
      "execution_count": null,
      "outputs": []
    },
    {
      "cell_type": "code",
      "source": [],
      "metadata": {
        "id": "WCCaU0yE11ts"
      },
      "execution_count": null,
      "outputs": []
    },
    {
      "cell_type": "code",
      "source": [],
      "metadata": {
        "id": "wcYqpWIw11qm"
      },
      "execution_count": null,
      "outputs": []
    },
    {
      "cell_type": "markdown",
      "source": [
        "### Entrega 9"
      ],
      "metadata": {
        "id": "WQV-wqwOUDfo"
      }
    },
    {
      "cell_type": "markdown",
      "source": [
        "1.\n",
        "Dada una matriz, calcular la matriz de sus cuadrados (usando map)"
      ],
      "metadata": {
        "id": "t7XXmdMSUMmr"
      }
    },
    {
      "cell_type": "code",
      "source": [
        "def square_function(x):\n",
        "    return x**2\n",
        "\n",
        "def square_matrix(A):\n",
        "    A_square = []\n",
        "    for row in A:\n",
        "      A_square.append(list(map(square_function,row)))\n",
        "    return A_square"
      ],
      "metadata": {
        "id": "SGle6HNrUGVk"
      },
      "execution_count": null,
      "outputs": []
    },
    {
      "cell_type": "code",
      "source": [
        "square_matrix([[1,2],[3,4]])"
      ],
      "metadata": {
        "colab": {
          "base_uri": "https://localhost:8080/"
        },
        "id": "uVuL9DFbXlNm",
        "outputId": "4319bc63-dfa0-47d5-b3c6-f263fe906db5"
      },
      "execution_count": null,
      "outputs": [
        {
          "output_type": "execute_result",
          "data": {
            "text/plain": [
              "[[1, 4], [9, 16]]"
            ]
          },
          "metadata": {},
          "execution_count": 19
        }
      ]
    },
    {
      "cell_type": "markdown",
      "source": [
        "2. Dada una matriz calcular la matriz que resulta de eliminar sus filas nulas (las que\n",
        "sólo contienen 0’s). Repetir el ejercicio con las columnas."
      ],
      "metadata": {
        "id": "KbWrEp-yUPwx"
      }
    },
    {
      "cell_type": "code",
      "source": [
        "def delete_cero(A):\n",
        "    for row in A:\n",
        "        if row == [0]*len(A[0]):\n",
        "            A.pop(A.index(row))\n",
        "    return A"
      ],
      "metadata": {
        "id": "G_PGc9W0UQro"
      },
      "execution_count": null,
      "outputs": []
    },
    {
      "cell_type": "code",
      "source": [
        "delete_cero([[1,2,3],[0,0,0],[2,0,0]])"
      ],
      "metadata": {
        "colab": {
          "base_uri": "https://localhost:8080/"
        },
        "id": "eekFH7d_ZURJ",
        "outputId": "f8762dbc-331d-448c-c122-608775c4798a"
      },
      "execution_count": null,
      "outputs": [
        {
          "output_type": "execute_result",
          "data": {
            "text/plain": [
              "[[1, 2, 3], [2, 0, 0]]"
            ]
          },
          "metadata": {},
          "execution_count": 29
        }
      ]
    },
    {
      "cell_type": "markdown",
      "source": [
        "3. Calcular la diferencia entre el máximo y el mínimo (no se pide versión\n",
        "recursiva)."
      ],
      "metadata": {
        "id": "8b1jHQRfUTf2"
      }
    },
    {
      "cell_type": "code",
      "source": [
        "def max_matrix(A):\n",
        "    m = max(A[0])\n",
        "    for row in A:\n",
        "        if m < max(row):\n",
        "            m = max(row)\n",
        "    return m"
      ],
      "metadata": {
        "id": "mJ9VEjvxUeBT"
      },
      "execution_count": null,
      "outputs": []
    },
    {
      "cell_type": "code",
      "source": [
        "max_matrix([[1,2,3],[0,5,0],[2,0,0]])"
      ],
      "metadata": {
        "colab": {
          "base_uri": "https://localhost:8080/"
        },
        "id": "JDbKnA0mdwlP",
        "outputId": "fd728cb6-020f-4f75-9de6-43434a0b5551"
      },
      "execution_count": null,
      "outputs": [
        {
          "output_type": "execute_result",
          "data": {
            "text/plain": [
              "5"
            ]
          },
          "metadata": {},
          "execution_count": 32
        }
      ]
    },
    {
      "cell_type": "code",
      "source": [
        "def min_matrix(A):\n",
        "    m = min(A[0])\n",
        "    for row in A:\n",
        "        if m > min(row):\n",
        "            m = min(row)\n",
        "    return m"
      ],
      "metadata": {
        "id": "VPAZCKLvd6f-"
      },
      "execution_count": null,
      "outputs": []
    },
    {
      "cell_type": "code",
      "source": [
        "min_matrix([[1,2,3],[0,5,-1],[2,0,0]])"
      ],
      "metadata": {
        "colab": {
          "base_uri": "https://localhost:8080/"
        },
        "id": "_OT0AOW7c1VK",
        "outputId": "3cf51927-1b16-4f08-8770-460c2db0165a"
      },
      "execution_count": null,
      "outputs": [
        {
          "output_type": "execute_result",
          "data": {
            "text/plain": [
              "-1"
            ]
          },
          "metadata": {},
          "execution_count": 35
        }
      ]
    },
    {
      "cell_type": "markdown",
      "source": [
        "4. Calcula una submatriz a partir de:\n",
        "• dos listas (índices de fila y de columna)."
      ],
      "metadata": {
        "id": "p_1MXRv-UeeF"
      }
    },
    {
      "cell_type": "code",
      "source": [
        "def sub_matrix2(A, i, j):\n",
        "    B = [[0,0],[0,0]]\n",
        "    B[0][0] = A[i+1][i+1]\n",
        "    B[0][1] = A[i+1][j+1]\n",
        "    B[1][0] = A[j+1][i+1]\n",
        "    B[1][1] = A[j+1][j+1]\n",
        "    return B"
      ],
      "metadata": {
        "id": "zAjGkGFCeLVV"
      },
      "execution_count": null,
      "outputs": []
    },
    {
      "cell_type": "code",
      "source": [
        "sub_matrix2([[1,1,1,1],[2,2,2,2],[3,3,3,3],[4,4,4,4],[5,5,5,5]], i = 1, j =3)"
      ],
      "metadata": {
        "colab": {
          "base_uri": "https://localhost:8080/",
          "height": 289
        },
        "id": "QoIpe87wUkqE",
        "outputId": "1a532444-2f4e-4f5e-e297-d07d480b5aa8"
      },
      "execution_count": null,
      "outputs": [
        {
          "output_type": "error",
          "ename": "IndexError",
          "evalue": "ignored",
          "traceback": [
            "\u001b[0;31m---------------------------------------------------------------------------\u001b[0m",
            "\u001b[0;31mIndexError\u001b[0m                                Traceback (most recent call last)",
            "\u001b[0;32m<ipython-input-90-6f741cbe690b>\u001b[0m in \u001b[0;36m<module>\u001b[0;34m\u001b[0m\n\u001b[0;32m----> 1\u001b[0;31m \u001b[0msub_matrix2\u001b[0m\u001b[0;34m(\u001b[0m\u001b[0;34m[\u001b[0m\u001b[0;34m[\u001b[0m\u001b[0;36m1\u001b[0m\u001b[0;34m,\u001b[0m\u001b[0;36m1\u001b[0m\u001b[0;34m,\u001b[0m\u001b[0;36m1\u001b[0m\u001b[0;34m,\u001b[0m\u001b[0;36m1\u001b[0m\u001b[0;34m]\u001b[0m\u001b[0;34m,\u001b[0m\u001b[0;34m[\u001b[0m\u001b[0;36m2\u001b[0m\u001b[0;34m,\u001b[0m\u001b[0;36m2\u001b[0m\u001b[0;34m,\u001b[0m\u001b[0;36m2\u001b[0m\u001b[0;34m,\u001b[0m\u001b[0;36m2\u001b[0m\u001b[0;34m]\u001b[0m\u001b[0;34m,\u001b[0m\u001b[0;34m[\u001b[0m\u001b[0;36m3\u001b[0m\u001b[0;34m,\u001b[0m\u001b[0;36m3\u001b[0m\u001b[0;34m,\u001b[0m\u001b[0;36m3\u001b[0m\u001b[0;34m,\u001b[0m\u001b[0;36m3\u001b[0m\u001b[0;34m]\u001b[0m\u001b[0;34m,\u001b[0m\u001b[0;34m[\u001b[0m\u001b[0;36m4\u001b[0m\u001b[0;34m,\u001b[0m\u001b[0;36m4\u001b[0m\u001b[0;34m,\u001b[0m\u001b[0;36m4\u001b[0m\u001b[0;34m,\u001b[0m\u001b[0;36m4\u001b[0m\u001b[0;34m]\u001b[0m\u001b[0;34m,\u001b[0m\u001b[0;34m[\u001b[0m\u001b[0;36m5\u001b[0m\u001b[0;34m,\u001b[0m\u001b[0;36m5\u001b[0m\u001b[0;34m,\u001b[0m\u001b[0;36m5\u001b[0m\u001b[0;34m,\u001b[0m\u001b[0;36m5\u001b[0m\u001b[0;34m]\u001b[0m\u001b[0;34m]\u001b[0m\u001b[0;34m,\u001b[0m \u001b[0mi\u001b[0m \u001b[0;34m=\u001b[0m \u001b[0;36m1\u001b[0m\u001b[0;34m,\u001b[0m \u001b[0mj\u001b[0m \u001b[0;34m=\u001b[0m\u001b[0;36m3\u001b[0m\u001b[0;34m)\u001b[0m\u001b[0;34m\u001b[0m\u001b[0;34m\u001b[0m\u001b[0m\n\u001b[0m",
            "\u001b[0;32m<ipython-input-88-791e7267c41b>\u001b[0m in \u001b[0;36msub_matrix2\u001b[0;34m(A, i, j)\u001b[0m\n\u001b[1;32m      2\u001b[0m     \u001b[0mB\u001b[0m \u001b[0;34m=\u001b[0m \u001b[0;34m[\u001b[0m\u001b[0;34m[\u001b[0m\u001b[0;36m0\u001b[0m\u001b[0;34m,\u001b[0m\u001b[0;36m0\u001b[0m\u001b[0;34m]\u001b[0m\u001b[0;34m,\u001b[0m\u001b[0;34m[\u001b[0m\u001b[0;36m0\u001b[0m\u001b[0;34m,\u001b[0m\u001b[0;36m0\u001b[0m\u001b[0;34m]\u001b[0m\u001b[0;34m]\u001b[0m\u001b[0;34m\u001b[0m\u001b[0;34m\u001b[0m\u001b[0m\n\u001b[1;32m      3\u001b[0m     \u001b[0mB\u001b[0m\u001b[0;34m[\u001b[0m\u001b[0;36m0\u001b[0m\u001b[0;34m]\u001b[0m\u001b[0;34m[\u001b[0m\u001b[0;36m0\u001b[0m\u001b[0;34m]\u001b[0m \u001b[0;34m=\u001b[0m \u001b[0mA\u001b[0m\u001b[0;34m[\u001b[0m\u001b[0mi\u001b[0m\u001b[0;34m+\u001b[0m\u001b[0;36m1\u001b[0m\u001b[0;34m]\u001b[0m\u001b[0;34m[\u001b[0m\u001b[0mi\u001b[0m\u001b[0;34m+\u001b[0m\u001b[0;36m1\u001b[0m\u001b[0;34m]\u001b[0m\u001b[0;34m\u001b[0m\u001b[0;34m\u001b[0m\u001b[0m\n\u001b[0;32m----> 4\u001b[0;31m     \u001b[0mB\u001b[0m\u001b[0;34m[\u001b[0m\u001b[0;36m0\u001b[0m\u001b[0;34m]\u001b[0m\u001b[0;34m[\u001b[0m\u001b[0;36m1\u001b[0m\u001b[0;34m]\u001b[0m \u001b[0;34m=\u001b[0m \u001b[0mA\u001b[0m\u001b[0;34m[\u001b[0m\u001b[0mi\u001b[0m\u001b[0;34m+\u001b[0m\u001b[0;36m1\u001b[0m\u001b[0;34m]\u001b[0m\u001b[0;34m[\u001b[0m\u001b[0mj\u001b[0m\u001b[0;34m+\u001b[0m\u001b[0;36m1\u001b[0m\u001b[0;34m]\u001b[0m\u001b[0;34m\u001b[0m\u001b[0;34m\u001b[0m\u001b[0m\n\u001b[0m\u001b[1;32m      5\u001b[0m     \u001b[0mB\u001b[0m\u001b[0;34m[\u001b[0m\u001b[0;36m1\u001b[0m\u001b[0;34m]\u001b[0m\u001b[0;34m[\u001b[0m\u001b[0;36m0\u001b[0m\u001b[0;34m]\u001b[0m \u001b[0;34m=\u001b[0m \u001b[0mA\u001b[0m\u001b[0;34m[\u001b[0m\u001b[0mj\u001b[0m\u001b[0;34m+\u001b[0m\u001b[0;36m1\u001b[0m\u001b[0;34m]\u001b[0m\u001b[0;34m[\u001b[0m\u001b[0mi\u001b[0m\u001b[0;34m+\u001b[0m\u001b[0;36m1\u001b[0m\u001b[0;34m]\u001b[0m\u001b[0;34m\u001b[0m\u001b[0;34m\u001b[0m\u001b[0m\n\u001b[1;32m      6\u001b[0m     \u001b[0mB\u001b[0m\u001b[0;34m[\u001b[0m\u001b[0;36m1\u001b[0m\u001b[0;34m]\u001b[0m\u001b[0;34m[\u001b[0m\u001b[0;36m1\u001b[0m\u001b[0;34m]\u001b[0m \u001b[0;34m=\u001b[0m \u001b[0mA\u001b[0m\u001b[0;34m[\u001b[0m\u001b[0mj\u001b[0m\u001b[0;34m+\u001b[0m\u001b[0;36m1\u001b[0m\u001b[0;34m]\u001b[0m\u001b[0;34m[\u001b[0m\u001b[0mj\u001b[0m\u001b[0;34m+\u001b[0m\u001b[0;36m1\u001b[0m\u001b[0;34m]\u001b[0m\u001b[0;34m\u001b[0m\u001b[0;34m\u001b[0m\u001b[0m\n",
            "\u001b[0;31mIndexError\u001b[0m: list index out of range"
          ]
        }
      ]
    },
    {
      "cell_type": "markdown",
      "source": [
        "4.\n",
        "Calcula una submatriz a partir de:\n",
        "• Dos índices (filas y columnas entre esos dos índices)"
      ],
      "metadata": {
        "id": "3lvJGH3gUlMI"
      }
    },
    {
      "cell_type": "code",
      "source": [],
      "metadata": {
        "id": "yv2aTBEPgxB_"
      },
      "execution_count": null,
      "outputs": []
    },
    {
      "cell_type": "code",
      "source": [
        "def sub_matrix(A, i, j):\n",
        "    B = []\n",
        "    for row in A[i:j+1]:\n",
        "        B.append(row[i:j+1])\n",
        "    return B"
      ],
      "metadata": {
        "id": "yTKl6V0oeK4P"
      },
      "execution_count": null,
      "outputs": []
    },
    {
      "cell_type": "code",
      "source": [
        "sub_matrix([[1,1,1,1],[2,2,2,2],[3,3,3,3],[4,4,4,4],[5,5,5,5]], i = 1, j =3)"
      ],
      "metadata": {
        "colab": {
          "base_uri": "https://localhost:8080/"
        },
        "id": "pJ_dZHL5i91M",
        "outputId": "25289eae-eecf-4f2c-dce3-cba5f941081b"
      },
      "execution_count": null,
      "outputs": [
        {
          "output_type": "execute_result",
          "data": {
            "text/plain": [
              "[[2, 2, 2], [3, 3, 3], [4, 4, 4]]"
            ]
          },
          "metadata": {},
          "execution_count": 82
        }
      ]
    },
    {
      "cell_type": "code",
      "source": [],
      "metadata": {
        "id": "hV0ZLQdBeKaC"
      },
      "execution_count": null,
      "outputs": []
    }
  ]
}