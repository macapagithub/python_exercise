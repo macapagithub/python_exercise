{
 "cells": [
  {
   "cell_type": "markdown",
   "metadata": {},
   "source": [
    "### Sesión 2"
   ]
  },
  {
   "cell_type": "code",
   "execution_count": 1,
   "metadata": {},
   "outputs": [
    {
     "name": "stdout",
     "output_type": "stream",
     "text": [
      "hbbh si es una palabra palindrome\n"
     ]
    }
   ],
   "source": [
    "# Determinar si una cadena es un palíndromo\n",
    "\n",
    "def palindrome(phrase):\n",
    "    val = \" no\"\n",
    "    if list(phrase) == list(phrase)[::-1]:\n",
    "        val = \" si\"    \n",
    "    print(phrase + val + \" es una palabra palindrome\")\n",
    "    return None\n",
    "\n",
    "palindrome(\"hbbh\")"
   ]
  },
  {
   "cell_type": "code",
   "execution_count": 2,
   "metadata": {},
   "outputs": [
    {
     "name": "stdout",
     "output_type": "stream",
     "text": [
      "hbabh si es una palabra palindrome\n"
     ]
    }
   ],
   "source": [
    "# Hacer el ejercicio anterior usando un while\n",
    "\n",
    "def palindrome_while(phrase):\n",
    "    phrase_inv = ''\n",
    "    i = 1\n",
    "    while i <= len(phrase):\n",
    "        phrase_inv = phrase_inv + phrase[-i]\n",
    "        i = i + 1\n",
    "\n",
    "    if phrase_inv == phrase:\n",
    "        val = \" si\"\n",
    "    else:\n",
    "        val = \" no\"\n",
    "    print(phrase + val + \" es una palabra palindrome\")\n",
    "    return None\n",
    "\n",
    "palindrome_while(\"hbabh\")"
   ]
  },
  {
   "cell_type": "code",
   "execution_count": 46,
   "metadata": {},
   "outputs": [
    {
     "name": "stdout",
     "output_type": "stream",
     "text": [
      "A ti no bonita si es una palabra palindrome\n",
      "ATINOBONITA\n"
     ]
    }
   ],
   "source": [
    "# -Repetirlo permitiendo espacios para separar y sin distinguir mayúsculas de minúsculas\n",
    "\n",
    "def palindrome_g(phrase):\n",
    "    val = \" no\" \n",
    "    phrase_u = ''\n",
    "    for word in phrase.upper().split(' '):\n",
    "        phrase_u = phrase_u + word\n",
    "    \n",
    "    if list(phrase_u.upper()) == list(phrase_u)[::-1]:\n",
    "        val = \" si\"    \n",
    "    print(phrase + val + \" es una palabra palindrome\")\n",
    "    # print(phrase_u)\n",
    "    return None\n",
    "\n",
    "palindrome_g(\"A ti no bonita\")"
   ]
  },
  {
   "cell_type": "code",
   "execution_count": null,
   "metadata": {},
   "outputs": [],
   "source": [
    "def palindrome_while(phrase):\n",
    "    phrase_inv = ''\n",
    "    i = 1\n",
    "    while i <= len(phrase):\n",
    "        phrase_inv = phrase_inv + phrase[-i]\n",
    "        i = i + 1\n",
    "\n",
    "    if phrase_inv == phrase:\n",
    "        val = \" si\"\n",
    "    else:\n",
    "        val = \" no\"\n",
    "    print(phrase + val + \" es una palabra palindrome\")\n",
    "    return None\n",
    "\n",
    "palindrome_while(\"hbabh\")"
   ]
  },
  {
   "cell_type": "code",
   "execution_count": 47,
   "metadata": {},
   "outputs": [
    {
     "data": {
      "text/plain": [
       "[1, 2, 3, 4]"
      ]
     },
     "execution_count": 47,
     "metadata": {},
     "output_type": "execute_result"
    }
   ],
   "source": [
    "# -Construir la lista con los primeros elementos de cada una\n",
    "\n",
    "def list_of_lists(l):\n",
    "    i = 0\n",
    "    final_list = []\n",
    "    while i < len(l):\n",
    "        final_list.append(l[i][0])\n",
    "        i = i + 1\n",
    "\n",
    "    return final_list\n",
    "\n",
    "\n",
    "list_of_lists([[1,10,100],[2,20,200],[3,30,300],[4,40,400]])"
   ]
  },
  {
   "cell_type": "code",
   "execution_count": 48,
   "metadata": {},
   "outputs": [
    {
     "data": {
      "text/plain": [
       "[[100, 10, 1], [200, 20, 2], [300, 30, 3], [400, 40, 4]]"
      ]
     },
     "execution_count": 48,
     "metadata": {},
     "output_type": "execute_result"
    }
   ],
   "source": [
    "# Construir la lista de las listas invertidas\n",
    "def list_of_lists(l):\n",
    "    i = 0\n",
    "    final_list = []\n",
    "    while i < len(l):\n",
    "        # inv_list \n",
    "        final_list.append(l[i][::-1])\n",
    "        i = i + 1\n",
    "\n",
    "    return final_list\n",
    "\n",
    "\n",
    "list_of_lists([[1,10,100],[2,20,200],[3,30,300],[4,40,400]])"
   ]
  },
  {
   "cell_type": "markdown",
   "metadata": {},
   "source": [
    "Ejercicio: dada una lista de listas no vacías, obtener un diccionario cuya clave sea el primer elemento de cada una y cuyo valor asociado sea su correspondiente \"resto\""
   ]
  },
  {
   "cell_type": "code",
   "execution_count": 50,
   "metadata": {},
   "outputs": [
    {
     "data": {
      "text/plain": [
       "{1: [10, 100], 2: [20, 200], 3: [30, 300], 4: [40, 400]}"
      ]
     },
     "execution_count": 50,
     "metadata": {},
     "output_type": "execute_result"
    }
   ],
   "source": [
    "def dict_of_lists(l):\n",
    "    final_dict = {}\n",
    "\n",
    "    for sublist in l:\n",
    "        final_dict[sublist[0]] = sublist[1:]\n",
    "\n",
    "    return final_dict\n",
    "\n",
    "\n",
    "dict_of_lists([[1,10,100],[2,20,200],[3,30,300],[4,40,400]])"
   ]
  },
  {
   "cell_type": "markdown",
   "metadata": {},
   "source": [
    "Ejercicio: Construir, mediante un while, la lista que resulta de eliminar la sublista entre dos posiciones. Hacer una versión destructiva de la misma."
   ]
  },
  {
   "cell_type": "code",
   "execution_count": 1,
   "metadata": {},
   "outputs": [
    {
     "data": {
      "text/plain": [
       "[1, 10, 200, 3, 30, 300, 4, 40, 400]"
      ]
     },
     "execution_count": 1,
     "metadata": {},
     "output_type": "execute_result"
    }
   ],
   "source": [
    "def sub_list_while(l,i,j):\n",
    "    i = i - 1\n",
    "    j = j - 1\n",
    "    k = 0\n",
    "    new_list = []\n",
    "    while k < len(l):\n",
    "        if (k<i) or (k>j):\n",
    "            new_list.append(l[k])\n",
    "        k = k + 1\n",
    "    return new_list\n",
    "sub_list_while([1,10,100,2,20,200,3,30,300,4,40,400], 3,5)"
   ]
  },
  {
   "cell_type": "markdown",
   "metadata": {},
   "source": [
    "Ejercicio: Construir la lista que resulta de ordenar una lista mediante \"selección\" (buscando mínimos de forma consecutiva). Repetir el ejercicio para el método de inserción (consulta operadores del tipo lista)."
   ]
  },
  {
   "cell_type": "code",
   "execution_count": 59,
   "metadata": {},
   "outputs": [
    {
     "data": {
      "text/plain": [
       "[0, 1, 2, 3, 4, 10, 20, 30, 40, 100, 200, 300, 400]"
      ]
     },
     "execution_count": 59,
     "metadata": {},
     "output_type": "execute_result"
    }
   ],
   "source": [
    "def order_selection(l):\n",
    "    for i in range(len(l)):\n",
    "        for j in range(i+1, len(l)):\n",
    "            if l[i] > l[j]:\n",
    "                l[i], l[j] = l[j], l[i]\n",
    "\n",
    "    return(l)\n",
    "order_selection([1,10,100,2,20,200,3,30,300,4,40,400,0])"
   ]
  },
  {
   "cell_type": "markdown",
   "metadata": {},
   "source": [
    "Ejercicio: evaluamos polinomios. Nuestra representación para un polinomio es su lista de coeficientes. La lista [1,0,-2] representa 1 - 2 x**2"
   ]
  },
  {
   "cell_type": "code",
   "execution_count": null,
   "metadata": {},
   "outputs": [],
   "source": [
    "def polynomial(l, x):\n",
    "    j = 0\n",
    "    result = 0\n",
    "    for i in l:\n",
    "        result = result + i*(x**j)\n",
    "        j = j +1\n",
    "  return result"
   ]
  },
  {
   "cell_type": "markdown",
   "metadata": {},
   "source": [
    "### Sesión 3"
   ]
  },
  {
   "cell_type": "markdown",
   "metadata": {},
   "source": [
    "Función que calcula la suma de los elementos de una secuencia. Función que calcula el máximo entre las sumas de una lista de tuplas."
   ]
  },
  {
   "cell_type": "code",
   "execution_count": 1,
   "metadata": {},
   "outputs": [
    {
     "data": {
      "text/plain": [
       "27"
      ]
     },
     "execution_count": 1,
     "metadata": {},
     "output_type": "execute_result"
    }
   ],
   "source": [
    "def sum_sec(x):\n",
    "    j = 0\n",
    "    for i in x:\n",
    "        j = i + j\n",
    "    # y = sum([1,2,3,4,5])  # Esta función ya suma la secuencia. \n",
    "    return j #, y\n",
    "\n",
    "sum_sec([1,2,3,4,5])\n",
    "\n",
    "def cal_max(x):\n",
    "    \"This function returns the max between the sums of the list of tuples\"\n",
    "    Y = [sum_sec(i) for i in x]\n",
    "    j = 0\n",
    "    for i in Y:\n",
    "        if j < i:\n",
    "            j = i\n",
    "    return j\n",
    "\n",
    "cal_max(((5,2,7),(1,2,3),(5,9,13)))  "
   ]
  },
  {
   "cell_type": "markdown",
   "metadata": {},
   "source": [
    "Ejercicio: Usamos diccionarios como agendas. La clave es el nombre del contacto, el valor asociado es un par (nacionalidad, telefono). Por otro lado usamos otra tabla cuya clave es la nacionalidad y el valor el prefijo (+34, por ejemplo). Diseña una función que modifica una agenda añadiendo los prefijos a los teléfonos."
   ]
  },
  {
   "cell_type": "code",
   "execution_count": 78,
   "metadata": {},
   "outputs": [],
   "source": [
    "#table es la tabla de los prefijos.   #Verificar si no tiene prefijo.\n",
    "def add_prefix(note,table):\n",
    "    for name in note:\n",
    "        note[name][1] = str(table[note[name][0]]) + str(note[name][1]) # Podría convertirse a entero con 'int', pero y el simbolo '+'? \n",
    "    return note"
   ]
  },
  {
   "cell_type": "markdown",
   "metadata": {},
   "source": [
    "Ejercicio: Evaluamos polinomios. La primera representación es una tupla de coeficientes. La tupla (-1,0,0,1,0,0,5) representa al polinomio pol(x) =−1 +x3+ 5x6. La segunda representación usa un diccionario, {0:-1,3:1,6:5}"
   ]
  },
  {
   "cell_type": "code",
   "execution_count": 77,
   "metadata": {},
   "outputs": [],
   "source": [
    "#Recibe una tupla(coeficiente de un polinomio) y un número y devulve el resultado de evaluar el número en ese polinomio.\n",
    "def evaluate_pol_tup(tup, num):\n",
    "    j = 0\n",
    "    result = 0\n",
    "    for i in tup:\n",
    "        result = result + i*(num**j)\n",
    "        j = j +1\n",
    "    return result "
   ]
  },
  {
   "cell_type": "code",
   "execution_count": 79,
   "metadata": {},
   "outputs": [
    {
     "data": {
      "text/plain": [
       "327"
      ]
     },
     "execution_count": 79,
     "metadata": {},
     "output_type": "execute_result"
    }
   ],
   "source": [
    "evaluate_pol_tup((-1,0,0,1,0,0,5),2)"
   ]
  },
  {
   "cell_type": "code",
   "execution_count": 81,
   "metadata": {},
   "outputs": [],
   "source": [
    "#Recibe un diccionario y un número y devulve el resultado de evaluar el número en ese polinomio.\n",
    "def evaluate_pol_dic(pol, num):\n",
    "    # j = 0\n",
    "    result = 0\n",
    "    for i in pol:\n",
    "        result = result + pol[i]*(num**i)\n",
    "    return result \n"
   ]
  },
  {
   "cell_type": "markdown",
   "metadata": {},
   "source": [
    "Ejercicio:Pensamos en representar una matriz mediante una lista de listas. Desarrolla una función que calcule la matriz de las sumas acumuladas por filas. Haced otra que lo haga por columnas. Prueba a hacer ambas en una única función, añadiendo un parámetro para indicar lo que se desea."
   ]
  },
  {
   "cell_type": "code",
   "execution_count": 2,
   "metadata": {},
   "outputs": [],
   "source": [
    "def sum_row_col(X):\n",
    "    while True:\n",
    "        row_c = input(\"Quieres sumar columnas 'c' o filas 'f':  \")\n",
    "        row_col = row_c.upper()\n",
    "        if row_col == 'C' or row_col == 'F':\n",
    "            print(\"Trabajamos con \",row_col)\n",
    "            break\n",
    "        else:\n",
    "            print(\"Ingrese 'c' o 'f'\")\n",
    "  \n",
    "    result = []\n",
    "    if row_col == 'F':\n",
    "        for i in X:\n",
    "            result.append(sum_sec(i))\n",
    "    else:\n",
    "        for i in range(len(X[0])):\n",
    "            s = 0\n",
    "            for j in X:\n",
    "                s = s + j[i]\n",
    "            result.append(s) \n",
    "  \n",
    "    return result"
   ]
  },
  {
   "cell_type": "code",
   "execution_count": 3,
   "metadata": {},
   "outputs": [
    {
     "name": "stdout",
     "output_type": "stream",
     "text": [
      "Ingrese 'c' o 'f'\n",
      "Trabajamos con  F\n"
     ]
    },
    {
     "data": {
      "text/plain": [
       "[6, 27]"
      ]
     },
     "execution_count": 3,
     "metadata": {},
     "output_type": "execute_result"
    }
   ],
   "source": [
    "sum_row_col([[1,2,3],[8,9,10]])"
   ]
  },
  {
   "cell_type": "markdown",
   "metadata": {},
   "source": [
    "Representa un grafo mediante un diccionario. Las claves son los vértices y los valores son listas (vértices adyacentes a la clave). Función que decide si un diccionario representa un grafo no dirigido."
   ]
  },
  {
   "cell_type": "code",
   "execution_count": 14,
   "metadata": {},
   "outputs": [
    {
     "data": {
      "text/plain": [
       "True"
      ]
     },
     "execution_count": 14,
     "metadata": {},
     "output_type": "execute_result"
    }
   ],
   "source": [
    "ghraph = {1:[3,4], 2:[3,5], 3:[1,2], 4:[1], 5:[2]}\n",
    "def repre_ghraph(g):\n",
    "    isghraph = True\n",
    "    for ver in g:\n",
    "        for point in g[ver]:\n",
    "            if ver not in g[point]:\n",
    "                isghraph = False    \n",
    "                break\n",
    "    # print(f'{g}')\n",
    "    return isghraph\n",
    "            \n",
    "repre_ghraph(ghraph)"
   ]
  },
  {
   "cell_type": "code",
   "execution_count": null,
   "metadata": {},
   "outputs": [],
   "source": []
  },
  {
   "cell_type": "markdown",
   "metadata": {},
   "source": [
    "Dada una lista, calcular la lista de frecuencias de cada uno de sus elementos."
   ]
  },
  {
   "cell_type": "code",
   "execution_count": 9,
   "metadata": {},
   "outputs": [
    {
     "data": {
      "text/plain": [
       "{1: 4, 4: 4, 8: 1, 6: 1, 2: 5, 3: 2, 5: 4, 9: 2, 7: 1}"
      ]
     },
     "execution_count": 9,
     "metadata": {},
     "output_type": "execute_result"
    }
   ],
   "source": [
    "def frequency_element(l): \n",
    "    elements = {}\n",
    "    for element in l:\n",
    "        if element in elements:\n",
    "            elements[element] = elements[element] + 1\n",
    "        else:\n",
    "            elements[element] = 1\n",
    "    return elements\n",
    "\n",
    "frequency_element([1,4,8,6,1,2,3,5,9,4,1,2,3,2,7,9,5,4,2,5,2,1,4,5])"
   ]
  },
  {
   "cell_type": "code",
   "execution_count": null,
   "metadata": {},
   "outputs": [],
   "source": []
  }
 ],
 "metadata": {
  "kernelspec": {
   "display_name": "Python 3 (ipykernel)",
   "language": "python",
   "name": "python3"
  },
  "language_info": {
   "codemirror_mode": {
    "name": "ipython",
    "version": 3
   },
   "file_extension": ".py",
   "mimetype": "text/x-python",
   "name": "python",
   "nbconvert_exporter": "python",
   "pygments_lexer": "ipython3",
   "version": "3.8.10"
  },
  "vscode": {
   "interpreter": {
    "hash": "916dbcbb3f70747c44a77c7bcd40155683ae19c65e1c03b4aa3499c5328201f1"
   }
  }
 },
 "nbformat": 4,
 "nbformat_minor": 2
}
