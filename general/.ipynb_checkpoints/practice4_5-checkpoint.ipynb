{
 "cells": [
  {
   "cell_type": "markdown",
   "metadata": {},
   "source": [
    "- Calcular la suma de los cuadrados de los números menores que un entero dado\n",
    "\n",
    "- Calcular la lista de los divisores de un número\n",
    "\n",
    "- Deteminar si un número es primo\n",
    "\n",
    "- Calcular los primos menores que un entero dado."
   ]
  },
  {
   "cell_type": "code",
   "execution_count": 6,
   "metadata": {},
   "outputs": [
    {
     "data": {
      "text/plain": [
       "5"
      ]
     },
     "execution_count": 6,
     "metadata": {},
     "output_type": "execute_result"
    }
   ],
   "source": [
    "def square_sum(n):\n",
    "    return sum([i**2 for i in range(n)]) \n",
    "\n",
    "def square_sum_pelo(n):\n",
    "    result = 0\n",
    "    for i in range(n):\n",
    "        result = result + i**2\n",
    "    return result\n",
    "# square_sum_pelo(3)"
   ]
  },
  {
   "cell_type": "code",
   "execution_count": 19,
   "metadata": {},
   "outputs": [
    {
     "data": {
      "text/plain": [
       "[1, 2, 5, 10]"
      ]
     },
     "execution_count": 19,
     "metadata": {},
     "output_type": "execute_result"
    }
   ],
   "source": [
    "def divisores(n):\n",
    "    return [i for i in range(1,n) if n%i == 0] + [n]\n",
    "\n",
    "def divisores_pelo(n):\n",
    "    div = []\n",
    "    for i in range(1,n):\n",
    "        if n%i == 0:\n",
    "            div.append(i)\n",
    "    return div + [n]\n",
    "divisores(10)"
   ]
  },
  {
   "cell_type": "code",
   "execution_count": 41,
   "metadata": {},
   "outputs": [
    {
     "data": {
      "text/plain": [
       "False"
      ]
     },
     "execution_count": 41,
     "metadata": {},
     "output_type": "execute_result"
    }
   ],
   "source": [
    "def primo(n):\n",
    "    return False if (len(divisores(n)) > 2) else True \n",
    "\n",
    "def primo_pelo(n):\n",
    "    p = False\n",
    "    if len(divisores(n)) > 2:\n",
    "        p = False\n",
    "    else:\n",
    "        p = True\n",
    "    return p\n",
    "primo(10)"
   ]
  },
  {
   "cell_type": "code",
   "execution_count": 37,
   "metadata": {},
   "outputs": [
    {
     "name": "stdout",
     "output_type": "stream",
     "text": [
      "Es primo\n"
     ]
    }
   ],
   "source": [
    "# def primo(n):\n",
    "#     return print(\"No es primo\") if (len(divisores(n)) > 2) else print(\"Es primo\") \n",
    "\n",
    "# def primo_pelo(n):\n",
    "#     if len(divisores(n)) > 2:\n",
    "#         print(\"No es primo\")\n",
    "#     else:\n",
    "#         print(\"Es primo\")\n",
    "#     return None\n",
    "# primo(5)"
   ]
  },
  {
   "cell_type": "code",
   "execution_count": 44,
   "metadata": {},
   "outputs": [
    {
     "data": {
      "text/plain": [
       "[2, 3, 5, 7, 11, 13]"
      ]
     },
     "execution_count": 44,
     "metadata": {},
     "output_type": "execute_result"
    }
   ],
   "source": [
    "def primos_menores(n):\n",
    "    return [i for i in range(2,n) if primo(i)] \n",
    "\n",
    "def primos_menores_pelo(n):\n",
    "    primos_m = []\n",
    "    for i in range(2,n):\n",
    "        if primo(i):\n",
    "            primos_m.append(i)\n",
    "    return primos_m\n",
    "\n",
    "primos_menores_pelo(15)"
   ]
  },
  {
   "cell_type": "markdown",
   "metadata": {},
   "source": [
    "Método para ordenar por mezcla una lista"
   ]
  },
  {
   "cell_type": "code",
   "execution_count": 46,
   "metadata": {},
   "outputs": [
    {
     "data": {
      "text/plain": [
       "[1, 3, 4, 5, 5, 6, 6, 7, 7, 7, 8, 9]"
      ]
     },
     "execution_count": 46,
     "metadata": {},
     "output_type": "execute_result"
    }
   ],
   "source": [
    "def ordenar_mezcla(l):\n",
    "    if len(l) <= 1:\n",
    "        return l\n",
    "    else:\n",
    "        middle = (len(l)//2)\n",
    "        l_left = l[middle:]\n",
    "        l_right = l[:middle]\n",
    "        l_left, l_right = ordenar_mezcla(l_left), ordenar_mezcla(l_right)\n",
    "        return merge(l_left, l_right)\n",
    "\n",
    "def merge(list1, list2):\n",
    "    i, j = 0, 0\n",
    "    result = []\n",
    "    while(i < len(list1) and j < len(list2)):\n",
    "        if (list1[i] < list2[j]):\n",
    "            result.append(list1[i])\n",
    "            i = i + 1\n",
    "        else:\n",
    "            result.append(list2[j])\n",
    "            j = j + 1\n",
    "    # print(list1)\n",
    "    # print(list2)\n",
    "    result = result + list1[i:]\n",
    "    result = result + list2[j:]\n",
    "    # print(i), print(j)        \n",
    "    return result\n",
    "\n",
    "ordenar_mezcla([7,5,8,6,7,4,1,9,3,5,6,7])"
   ]
  },
  {
   "cell_type": "markdown",
   "metadata": {},
   "source": [
    "Método quicksort para ordenar un vector"
   ]
  },
  {
   "cell_type": "code",
   "execution_count": 28,
   "metadata": {},
   "outputs": [],
   "source": [
    "def partition(low, high, l):\n",
    "    \n",
    "    i = low\n",
    "    pivot = l[high] \n",
    "    for j in range(low , high):\n",
    "        if   l[j] <= pivot:\n",
    "                l[i],l[j] = l[j],l[i] \n",
    "                i = i+1\n",
    "    l[i],l[high] = l[high],l[i] \n",
    "    return ( i ) \n",
    "\n",
    "\n",
    "def quicksort(low, high, l):\n",
    "    \n",
    "    if(low < high):\n",
    "        pi = partition(low, high, l)\n",
    "        quicksort(low, pi-1, l)\n",
    "        quicksort(pi+1, high, l)\n",
    "    return l"
   ]
  },
  {
   "cell_type": "code",
   "execution_count": 26,
   "metadata": {},
   "outputs": [],
   "source": [
    "# def quicksort(l): \n",
    "#     if len(l) == 1:\n",
    "#         return l\n",
    "#     else:    \n",
    "#         j = 0\n",
    "#         pivot = len(l) - j\n",
    "#         for i in range(j, len(l)//2):\n",
    "#             if l[i] < l[pivot] and i < pivot:\n",
    "#                 l[i], l[pivot] = l[pivot], l[i]\n",
    "\n",
    "#             J = j + 1\n",
    "\n",
    "#     pivot = len(l) - 1\n",
    "#     print(pivot, j)\n",
    "#     if l[pivot] < l[i-1]:\n",
    "#         l[J], l[pivot] = l[pivot], l[j]\n",
    "\n",
    "#     return quicksort(l[:i-1]) + quicksort(l[pivot+1:])"
   ]
  },
  {
   "cell_type": "code",
   "execution_count": 35,
   "metadata": {},
   "outputs": [
    {
     "data": {
      "text/plain": [
       "[1, 3, 4, 5, 5, 6, 6, 7, 7, 7, 8, 9]"
      ]
     },
     "execution_count": 35,
     "metadata": {},
     "output_type": "execute_result"
    }
   ],
   "source": [
    "l = [7,5,8,6,7,4,1,9,3,5,6,7]\n",
    "quicksort(0,len(l)-1,l)"
   ]
  },
  {
   "cell_type": "code",
   "execution_count": null,
   "metadata": {},
   "outputs": [],
   "source": []
  },
  {
   "cell_type": "markdown",
   "metadata": {},
   "source": [
    "Cálculo de la traspuesta de una matriz mediante listas por comprensión"
   ]
  },
  {
   "cell_type": "code",
   "execution_count": 86,
   "metadata": {},
   "outputs": [
    {
     "data": {
      "text/plain": [
       "[[1, 3], [2, 4]]"
      ]
     },
     "execution_count": 86,
     "metadata": {},
     "output_type": "execute_result"
    }
   ],
   "source": [
    "def T_matrix(A):\n",
    "    AT = [[row[i] for row in A] for i in range(len(A[0]))]\n",
    "    return AT\n",
    "\n",
    "T_matrix([[1,2],[3,4]])"
   ]
  },
  {
   "cell_type": "code",
   "execution_count": null,
   "metadata": {},
   "outputs": [],
   "source": []
  },
  {
   "cell_type": "code",
   "execution_count": 102,
   "metadata": {},
   "outputs": [
    {
     "data": {
      "text/plain": [
       "(('China', 1391), ('India', 1364), ('Estados Unidos', 327), ('Indonesia', 264))"
      ]
     },
     "execution_count": 102,
     "metadata": {},
     "output_type": "execute_result"
    }
   ],
   "source": [
    "paises = [\"China\", \"India\", \"Estados Unidos\", \"Indonesia\"]\n",
    "poblaciones = [1391, 1364, 327, 264]\n",
    "tuple(zip(paises, poblaciones))"
   ]
  },
  {
   "cell_type": "markdown",
   "metadata": {},
   "source": [
    "Haz tu propio método zip de una lista de listas."
   ]
  },
  {
   "cell_type": "code",
   "execution_count": 101,
   "metadata": {},
   "outputs": [
    {
     "data": {
      "text/plain": [
       "(('China', 1364), ('India', 327), ('Estados Unidos', 264))"
      ]
     },
     "execution_count": 101,
     "metadata": {},
     "output_type": "execute_result"
    }
   ],
   "source": [
    "def myzip(iter1,iter2):\n",
    "    z = []\n",
    "    for i in range(min(len(iter1),len(iter2))):\n",
    "        z.append((iter1[i],iter2[i]))\n",
    "    return tuple(z)\n",
    "\n",
    "tuple(myzip(paises, poblaciones))"
   ]
  },
  {
   "cell_type": "markdown",
   "metadata": {},
   "source": [
    "Crear un fichero de texto, darle mombre Pru.txt.\n",
    "Leer el contenido del fichero y convertir las lineas a notación CamelCase\n",
    "    MiMamaMeMima \n",
    "o snake_case\n",
    "    mi_mama_me_mima \n",
    "y generar los ficheros PruCamelCase.txt y Pru_snake_case.txt"
   ]
  },
  {
   "cell_type": "code",
   "execution_count": 5,
   "metadata": {},
   "outputs": [],
   "source": [
    "f = open('Pru.txt','w')\n",
    "f.write(f'Mi mama me mima')\n",
    "# f.write('\\n')\n",
    "f.close()"
   ]
  },
  {
   "cell_type": "code",
   "execution_count": 31,
   "metadata": {},
   "outputs": [],
   "source": [
    "with open('Pru.txt') as f:\n",
    "    f = f.readlines()\n",
    "\n",
    "\n",
    "# Genero snake case.\n",
    "file_snake = open('Pru_snake_case.txt','w')\n",
    "for line in f:\n",
    "    line = line.split(' ')\n",
    "    string_snake = line[0].lower()\n",
    "    for word in line[1:]:\n",
    "        string_snake = string_snake + '_' + word.lower()\n",
    "    file_snake.write(string_snake)\n",
    "file_snake.close()\n",
    "\n",
    "#Genero camel case.\n",
    "file_camel = open('PruCamelCase.txt','w')\n",
    "for line in f:\n",
    "    line = line.split(' ')\n",
    "    string_camel_case = ''\n",
    "    for word in line[1:]:\n",
    "        string_camel_case = string_camel_case + word.capitalize()\n",
    "    file_camel.write(string_camel_case)\n",
    "file_camel.close()"
   ]
  },
  {
   "cell_type": "code",
   "execution_count": null,
   "metadata": {},
   "outputs": [],
   "source": []
  },
  {
   "cell_type": "markdown",
   "metadata": {},
   "source": [
    "### Sesión 5"
   ]
  },
  {
   "cell_type": "markdown",
   "metadata": {},
   "source": [
    "Diseñar una función par determinar si dos listas tienen los mismos elementos. Por ejemplo, [1,4,2,4,3] y [4,1,2,3,2,1] tiene los mismos elementos. Se piden dos versiones, una \"a pelo\", otra, transformando a set."
   ]
  },
  {
   "cell_type": "code",
   "execution_count": null,
   "metadata": {},
   "outputs": [],
   "source": [
    "def subset(l1,l2):\n",
    "    for i in l1:\n",
    "        if i not in l2:\n",
    "            return False\n",
    "    return True\n",
    "  \n",
    "def equal_elements(l1,l2):\n",
    "    'This funtion return if two list have the same elements'\n",
    "    if subset(l1,l2) == subset(l2,l1):\n",
    "        return True\n",
    "    else:\n",
    "        return False\n",
    "\n",
    "def equal_elements2(l1,l2):\n",
    "    'This funtion return if two list have the same elements'\n",
    "    if set(l1) == set(l2):\n",
    "        return True\n",
    "    else:\n",
    "        return False"
   ]
  },
  {
   "cell_type": "markdown",
   "metadata": {},
   "source": [
    "Representamos una matriz mediante una lista de listas. Diseñar sendas funciones para, dadas dos matrices, calcular su suma y su producto."
   ]
  },
  {
   "cell_type": "code",
   "execution_count": 49,
   "metadata": {},
   "outputs": [],
   "source": [
    "matrix1=[[3,2],[5,3]]\n",
    "matrix2=[[5,3],[6,7]]"
   ]
  },
  {
   "cell_type": "code",
   "execution_count": 50,
   "metadata": {},
   "outputs": [
    {
     "data": {
      "text/plain": [
       "[[8, 5], [11, 10]]"
      ]
     },
     "execution_count": 50,
     "metadata": {},
     "output_type": "execute_result"
    }
   ],
   "source": [
    "def sum_matrix(A,B):\n",
    "    C = A.copy()\n",
    "    for i in range(len(A)):\n",
    "        for j in range(len(A[0])):\n",
    "            C[i][j] = A[i][j] + B[i][j]\n",
    "    return C\n",
    "\n",
    "sum_matrix(matrix1,matrix2)"
   ]
  },
  {
   "cell_type": "code",
   "execution_count": 53,
   "metadata": {},
   "outputs": [
    {
     "data": {
      "text/plain": [
       "[[70, 59], [115, 103]]"
      ]
     },
     "execution_count": 53,
     "metadata": {},
     "output_type": "execute_result"
    }
   ],
   "source": [
    "def mul_matrix(A,B):\n",
    "    if len(A) != len(B[0]):\n",
    "        print('No es posible realizar la multiplicación.')\n",
    "    C = [[0]*len(B[0]) for i in range(len(A))]\n",
    "    for i in range(len(A)):\n",
    "        for j in range(len(B[0])):\n",
    "            result = 0\n",
    "            for k in range(len(B)):\n",
    "                result = result + (A[i][k]*B[k][j])\n",
    "            C[i][j] = result\n",
    "    return C\n",
    "mul_matrix(matrix1,matrix2)"
   ]
  },
  {
   "cell_type": "markdown",
   "metadata": {},
   "source": [
    "Representamos un grafo dirigido mediante un diccionario. Las parejas son (vértice: lista de adyacencia). A partir de un grafo:\n",
    "\n",
    "    Calcular su matriz de adyacencia.\n",
    "Los dos últimos realizarlos también usando listas por comprensión y la función max."
   ]
  },
  {
   "cell_type": "code",
   "execution_count": 2,
   "metadata": {},
   "outputs": [],
   "source": [
    "def matrix_graph(D):\n",
    "      # C = [[0]*len(D) for i in range(len(D))]\n",
    "  C = []\n",
    "  for vertex in D:\n",
    "    line = []\n",
    "    for element in D:\n",
    "      if element in D[vertex]:\n",
    "        line.append(1)\n",
    "      else: #element not in D[vertex]:\n",
    "        line.append(0)\n",
    "      # else:\n",
    "      #     raise Exception(\"Algo no está funcionando bien.\")\n",
    "    C.append(line)\n",
    "  return(C)"
   ]
  },
  {
   "cell_type": "code",
   "execution_count": 3,
   "metadata": {},
   "outputs": [
    {
     "data": {
      "text/plain": [
       "[[0, 1, 1, 1, 0],\n",
       " [1, 0, 1, 0, 1],\n",
       " [1, 1, 0, 0, 0],\n",
       " [1, 0, 0, 0, 0],\n",
       " [0, 1, 0, 0, 0]]"
      ]
     },
     "execution_count": 3,
     "metadata": {},
     "output_type": "execute_result"
    }
   ],
   "source": [
    "graph = {1:[2,3,4], 2:[1,3,5], 3:[1,2], 4:[1], 5:[2]}\n",
    "# ghraph.keys()\n",
    "# matrix_graph(ghra(ph)\n",
    "matrix_graph(graph)\n",
    "# max(matrix_graph(graph))"
   ]
  },
  {
   "cell_type": "code",
   "execution_count": 5,
   "metadata": {},
   "outputs": [
    {
     "data": {
      "text/plain": [
       "5"
      ]
     },
     "execution_count": 5,
     "metadata": {},
     "output_type": "execute_result"
    }
   ],
   "source": [
    "# max(graph)"
   ]
  },
  {
   "cell_type": "markdown",
   "metadata": {},
   "source": [
    "Vértice con mayor número de salidas."
   ]
  },
  {
   "cell_type": "code",
   "execution_count": 76,
   "metadata": {},
   "outputs": [
    {
     "name": "stdout",
     "output_type": "stream",
     "text": [
      "El vertice con el mayor número de salidas es 1\n"
     ]
    },
    {
     "data": {
      "text/plain": [
       "1"
      ]
     },
     "execution_count": 76,
     "metadata": {},
     "output_type": "execute_result"
    }
   ],
   "source": [
    "#El vertice con mayor número de salidas podría calcularse con max.\n",
    "# max(max_matrix(D))\n",
    "def max_vertice_out(D):\n",
    "    matrix = [sum(line) for line in matrix_graph(D)]\n",
    "    index_max = matrix.index(max(matrix))\n",
    "    vertex_max = list(D)[index_max]\n",
    "    print(f\"El vertice con el mayor número de salidas es {vertex_max}\")\n",
    "    return vertex_max\n",
    "    \n",
    "max_vertice_out(graph)"
   ]
  },
  {
   "cell_type": "markdown",
   "metadata": {},
   "source": [
    "Vértice con mayor número de llegadas."
   ]
  },
  {
   "cell_type": "code",
   "execution_count": 78,
   "metadata": {},
   "outputs": [
    {
     "name": "stdout",
     "output_type": "stream",
     "text": [
      "El vertice con el mayor número de llegadas es 1\n"
     ]
    },
    {
     "data": {
      "text/plain": [
       "1"
      ]
     },
     "execution_count": 78,
     "metadata": {},
     "output_type": "execute_result"
    }
   ],
   "source": [
    "def max_vertice_in(D):\n",
    "    matrix = matrix_graph(D)\n",
    "    matrix_in = [[l[i] for l in matrix] for i in range(len(matrix))]\n",
    "    matrix_in = [sum(line) for line in matrix_in]\n",
    "    # print(max(matrix))\n",
    "    index_max = matrix_in.index(max(matrix_in))\n",
    "    vertex_max = list(D)[index_max]\n",
    "    print(f\"El vertice con el mayor número de llegadas es {vertex_max}\")\n",
    "    return vertex_max\n",
    "    \n",
    "max_vertice_in(ghraph)"
   ]
  },
  {
   "cell_type": "code",
   "execution_count": 15,
   "metadata": {},
   "outputs": [
    {
     "data": {
      "text/plain": [
       "True"
      ]
     },
     "execution_count": 15,
     "metadata": {},
     "output_type": "execute_result"
    }
   ],
   "source": [
    "\n"
   ]
  },
  {
   "cell_type": "markdown",
   "metadata": {},
   "source": [
    "Dado un grafo dirigido G, un vértive v de G y un entero n, calcular los vértices alcanzables desde v mediante caminos que tengan longitud menor o igual que n."
   ]
  },
  {
   "cell_type": "code",
   "execution_count": null,
   "metadata": {},
   "outputs": [],
   "source": [
    "def vertex_roads(D,vertex,n):\n",
    "    pass\n",
    "    i = n\n",
    "    for vertex in "
   ]
  }
 ],
 "metadata": {
  "kernelspec": {
   "display_name": "Python 3 (ipykernel)",
   "language": "python",
   "name": "python3"
  },
  "language_info": {
   "codemirror_mode": {
    "name": "ipython",
    "version": 3
   },
   "file_extension": ".py",
   "mimetype": "text/x-python",
   "name": "python",
   "nbconvert_exporter": "python",
   "pygments_lexer": "ipython3",
   "version": "3.8.10"
  },
  "vscode": {
   "interpreter": {
    "hash": "916dbcbb3f70747c44a77c7bcd40155683ae19c65e1c03b4aa3499c5328201f1"
   }
  }
 },
 "nbformat": 4,
 "nbformat_minor": 2
}
