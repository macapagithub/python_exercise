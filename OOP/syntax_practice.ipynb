{
 "cells": [
  {
   "cell_type": "code",
   "execution_count": 36,
   "metadata": {},
   "outputs": [],
   "source": [
    "#The execise is: https://github.com/udacity/DSND_Term2/blob/master/lessons/ObjectOrientedProgramming/JupyterNotebooks/2.OOP_syntax_pants_practice/exercise.ipynb  "
   ]
  },
  {
   "cell_type": "code",
   "execution_count": 37,
   "metadata": {},
   "outputs": [],
   "source": [
    "class Pants:\n",
    "\n",
    "    def __init__(self, pant_color: str, waist_size: int, length: int, pant_price: float):\n",
    "        \"\"\"\n",
    "        Method for initializing a Pants object\n",
    "    \n",
    "        Args: \n",
    "            color (str)\n",
    "            waist_size (int)\n",
    "            length (int)\n",
    "            price (float)\n",
    "            \n",
    "        Attributes:\n",
    "            color (str): color of a pants object\n",
    "            waist_size (int): waist size of a pants object\n",
    "            length (int): length of a pants object\n",
    "            price (float): price of a pants object\n",
    "        \"\"\"\n",
    "\n",
    "        self.color = pant_color\n",
    "        self.waist_size = waist_size\n",
    "        self.length = length\n",
    "        self.price = pant_price\n",
    "\n",
    "    \n",
    "    def change_price(self, new_price: float) -> float:\n",
    "        self.price = new_price\n",
    "\n",
    "    def discount(self, discount: float) -> float:\n",
    "        return self.price * (1-discount)\n"
   ]
  },
  {
   "cell_type": "code",
   "execution_count": 38,
   "metadata": {},
   "outputs": [],
   "source": [
    "new_pant = Pant('black', 'M', 'elegant', 20)"
   ]
  },
  {
   "cell_type": "code",
   "execution_count": 39,
   "metadata": {},
   "outputs": [
    {
     "name": "stdout",
     "output_type": "stream",
     "text": [
      "<__main__.Pant object at 0x7fe043629c70>\n"
     ]
    }
   ],
   "source": [
    "print(new_pant)"
   ]
  },
  {
   "cell_type": "code",
   "execution_count": 40,
   "metadata": {},
   "outputs": [
    {
     "name": "stdout",
     "output_type": "stream",
     "text": [
      "15\n",
      "7.5\n"
     ]
    }
   ],
   "source": [
    "new_pant.change_price(15)\n",
    "print(new_pant.price)\n",
    "print(new_pant.discount(0.5))"
   ]
  },
  {
   "cell_type": "code",
   "execution_count": 41,
   "metadata": {},
   "outputs": [
    {
     "name": "stdout",
     "output_type": "stream",
     "text": [
      "You made it to the end of the check. Nice job!\n"
     ]
    }
   ],
   "source": [
    "#test\n",
    "def check_results():\n",
    "    pants = Pants('red', 35, 36, 15.12)\n",
    "    assert pants.color == 'red'\n",
    "    assert pants.waist_size == 35\n",
    "    assert pants.length == 36\n",
    "    assert pants.price == 15.12\n",
    "    \n",
    "    pants.change_price(10) == 10\n",
    "    assert pants.price == 10 \n",
    "    \n",
    "    assert pants.discount(.1) == 9\n",
    "    \n",
    "    print('You made it to the end of the check. Nice job!')\n",
    "\n",
    "check_results()"
   ]
  },
  {
   "cell_type": "code",
   "execution_count": null,
   "metadata": {},
   "outputs": [],
   "source": []
  },
  {
   "cell_type": "code",
   "execution_count": 76,
   "metadata": {},
   "outputs": [],
   "source": [
    "class SalesPerson:\n",
    "    \n",
    "    def __init__(self, first_name: str, last_name: str, employee_id: int, salary: float):\n",
    "        \"\"\"\n",
    "        Method for initializing a SalesPerson object\n",
    "        Args: \n",
    "            first_name (str)\n",
    "            last_name (int)\n",
    "            employee_id (int)\n",
    "            salary (float)\n",
    "            \n",
    "        Attributes:\n",
    "            fist_name (str): first_name (string), the first name of the salesperson\n",
    "            last_name (string): the last name of the salesperson\n",
    "            employee_id (int): the employee ID number like 5681923\n",
    "            salary (float): the monthly salary of the employee\n",
    "            pants_sold(list of Pants objects): pants that the salesperson has sold \n",
    "            total_sales(float): sum of sales of pants sold\n",
    "        \"\"\"\n",
    "\n",
    "        self.first_name = first_name\n",
    "        self.last_name = last_name\n",
    "        self.employee_id = employee_id\n",
    "        self.salary = salary\n",
    "        self.pants_sold = []\n",
    "        self.total_sales = 0\n",
    "    \n",
    "    def sell_pants(self, pants: Pants):\n",
    "        \"\"\"\n",
    "        This method receives a Pants object and appends the object to the pants_sold attribute list\n",
    "\n",
    "        Args:\n",
    "            pants (Pants object): a pants object\n",
    "        Returns:\n",
    "            None\n",
    "        \"\"\"\n",
    "\n",
    "        self.pants_sold.append(pants)\n",
    "\n",
    "    def display_sales(self):\n",
    "        \"\"\"\n",
    "        This method prints out the characteristics of each pair of pants line by line.\n",
    "        \"\"\"\n",
    "\n",
    "        for pant in self.pants_sold:\n",
    "            print(f'color: {pant.color}, waist_size: {pant.waist_size}, length: {pant.length}, price: {pant.price}')    \n",
    "\n",
    "    \n",
    "    def calculate_sales(self) -> float:\n",
    "        \"\"\"\n",
    "        This method calculates the total sales for the sales person.\n",
    "     \n",
    "        Args:\n",
    "            None\n",
    "        Returns:\n",
    "            float: total_sales\n",
    "        \"\"\"\n",
    "\n",
    "        total_sales = 0\n",
    "        for pant in self.pants_sold:\n",
    "            total_sales = total_sales + pant.price\n",
    "        return total_sales\n",
    "\n",
    "\n",
    "    def calculate_commission(self, percentage: float) -> float:\n",
    "        \"\"\"    \n",
    "        The method calculate the total sales of pants based on the price,\n",
    "        and then returns the commission.\n",
    "\n",
    "        Args:\n",
    "            percentage (float): comission percentage as a decimal\n",
    "\n",
    "        Returns:\n",
    "            float: total_commission\n",
    "        \"\"\"\n",
    "\n",
    "        total_commission = 0\n",
    "        for pant in self.pants_sold:\n",
    "            total_commission = total_commission + (pant.price)*percentage\n",
    "\n",
    "        return total_commission\n"
   ]
  },
  {
   "cell_type": "code",
   "execution_count": 77,
   "metadata": {},
   "outputs": [
    {
     "name": "stdout",
     "output_type": "stream",
     "text": [
      "Great job, you made it to the end of the code checks!\n"
     ]
    }
   ],
   "source": [
    "def check_results():\n",
    "    pants_one = Pants('red', 35, 36, 15.12)\n",
    "    pants_two = Pants('blue', 40, 38, 24.12)\n",
    "    pants_three = Pants('tan', 28, 30, 8.12)\n",
    "    \n",
    "    salesperson = SalesPerson('Amy', 'Gonzalez', 2581923, 40000)\n",
    "    \n",
    "    assert salesperson.first_name == 'Amy'\n",
    "    assert salesperson.last_name == 'Gonzalez'\n",
    "    assert salesperson.employee_id == 2581923\n",
    "    assert salesperson.salary == 40000\n",
    "    assert salesperson.pants_sold == []\n",
    "    assert salesperson.total_sales == 0\n",
    "    \n",
    "    salesperson.sell_pants(pants_one)\n",
    "    salesperson.pants_sold[0] == pants_one.color\n",
    "    \n",
    "    salesperson.sell_pants(pants_two)\n",
    "    salesperson.sell_pants(pants_three)\n",
    "    \n",
    "    assert len(salesperson.pants_sold) == 3\n",
    "    assert round(salesperson.calculate_sales(),2) == 47.36\n",
    "    assert round(salesperson.calculate_commission(.1),2) == 4.74\n",
    "    \n",
    "    print('Great job, you made it to the end of the code checks!')\n",
    "    \n",
    "check_results()"
   ]
  },
  {
   "cell_type": "code",
   "execution_count": 79,
   "metadata": {},
   "outputs": [
    {
     "name": "stdout",
     "output_type": "stream",
     "text": [
      "color: red, waist_size: 35, length: 36, price: 15.12\n",
      "color: blue, waist_size: 40, length: 38, price: 24.12\n",
      "color: tan, waist_size: 28, length: 30, price: 8.12\n"
     ]
    }
   ],
   "source": [
    "#Check display_sales() method\n",
    "\n",
    "pants_one = Pants('red', 35, 36, 15.12)\n",
    "pants_two = Pants('blue', 40, 38, 24.12)\n",
    "pants_three = Pants('tan', 28, 30, 8.12)\n",
    "\n",
    "salesperson = SalesPerson('Amy', 'Gonzalez', 2581923, 40000)\n",
    "\n",
    "salesperson.sell_pants(pants_one)    \n",
    "salesperson.sell_pants(pants_two)\n",
    "salesperson.sell_pants(pants_three)\n",
    "\n",
    "salesperson.display_sales()"
   ]
  },
  {
   "cell_type": "code",
   "execution_count": null,
   "metadata": {},
   "outputs": [],
   "source": []
  }
 ],
 "metadata": {
  "kernelspec": {
   "display_name": "Python 3.8.10 64-bit",
   "language": "python",
   "name": "python3"
  },
  "language_info": {
   "codemirror_mode": {
    "name": "ipython",
    "version": 3
   },
   "file_extension": ".py",
   "mimetype": "text/x-python",
   "name": "python",
   "nbconvert_exporter": "python",
   "pygments_lexer": "ipython3",
   "version": "3.8.10"
  },
  "orig_nbformat": 4,
  "vscode": {
   "interpreter": {
    "hash": "916dbcbb3f70747c44a77c7bcd40155683ae19c65e1c03b4aa3499c5328201f1"
   }
  }
 },
 "nbformat": 4,
 "nbformat_minor": 2
}
