{
 "cells": [
  {
   "cell_type": "code",
   "execution_count": 5,
   "metadata": {},
   "outputs": [],
   "source": [
    "#The execise is: https://github.com/udacity/DSND_Term2/blob/master/lessons/ObjectOrientedProgramming/JupyterNotebooks/2.OOP_syntax_pants_practice/exercise.ipynb  "
   ]
  },
  {
   "cell_type": "code",
   "execution_count": 26,
   "metadata": {},
   "outputs": [],
   "source": [
    "class Pants:\n",
    "\n",
    "    def __init__(self, pant_color: str, waist_size: int, length: int, pant_price: float):\n",
    "        \"\"\"\n",
    "        Method for initializing a Pants object\n",
    "    \n",
    "        Args: \n",
    "            color (str)\n",
    "            waist_size (int)\n",
    "            length (int)\n",
    "            price (float)\n",
    "            \n",
    "        Attributes:\n",
    "            color (str): color of a pants object\n",
    "            waist_size (int): waist size of a pants object\n",
    "            length (int): length of a pants object\n",
    "            price (float): price of a pants object\n",
    "        \"\"\"\n",
    "\n",
    "        self.color = pant_color\n",
    "        self.waist_size = waist_size\n",
    "        self.length = length\n",
    "        self.price = pant_price\n",
    "\n",
    "    \n",
    "    def change_price(self, new_price: float) -> float:\n",
    "        self.price = new_price\n",
    "\n",
    "    def discount(self, discount: float) -> float:\n",
    "        return self.price * (1-discount)\n"
   ]
  },
  {
   "cell_type": "code",
   "execution_count": 27,
   "metadata": {},
   "outputs": [],
   "source": [
    "new_pant = Pant('black', 'M', 'elegant', 20)"
   ]
  },
  {
   "cell_type": "code",
   "execution_count": 28,
   "metadata": {},
   "outputs": [
    {
     "name": "stdout",
     "output_type": "stream",
     "text": [
      "20\n"
     ]
    }
   ],
   "source": [
    "print(new_pant)"
   ]
  },
  {
   "cell_type": "code",
   "execution_count": 29,
   "metadata": {},
   "outputs": [
    {
     "name": "stdout",
     "output_type": "stream",
     "text": [
      "15\n",
      "7.5\n"
     ]
    }
   ],
   "source": [
    "new_pant.change_price(15)\n",
    "print(new_pant.price)\n",
    "print(new_pant.discount(0.5))"
   ]
  },
  {
   "cell_type": "code",
   "execution_count": 30,
   "metadata": {},
   "outputs": [
    {
     "name": "stdout",
     "output_type": "stream",
     "text": [
      "You made it to the end of the check. Nice job!\n"
     ]
    }
   ],
   "source": [
    "#test\n",
    "def check_results():\n",
    "    pants = Pants('red', 35, 36, 15.12)\n",
    "    assert pants.color == 'red'\n",
    "    assert pants.waist_size == 35\n",
    "    assert pants.length == 36\n",
    "    assert pants.price == 15.12\n",
    "    \n",
    "    pants.change_price(10) == 10\n",
    "    assert pants.price == 10 \n",
    "    \n",
    "    assert pants.discount(.1) == 9\n",
    "    \n",
    "    print('You made it to the end of the check. Nice job!')\n",
    "\n",
    "check_results()"
   ]
  },
  {
   "cell_type": "code",
   "execution_count": null,
   "metadata": {},
   "outputs": [],
   "source": []
  },
  {
   "cell_type": "code",
   "execution_count": 31,
   "metadata": {},
   "outputs": [
    {
     "ename": "NameError",
     "evalue": "name 'Object' is not defined",
     "output_type": "error",
     "traceback": [
      "\u001b[0;31m---------------------------------------------------------------------------\u001b[0m",
      "\u001b[0;31mNameError\u001b[0m                                 Traceback (most recent call last)",
      "\u001b[0;32m<ipython-input-31-73fce3c42e79>\u001b[0m in \u001b[0;36m<module>\u001b[0;34m\u001b[0m\n\u001b[0;32m----> 1\u001b[0;31m \u001b[0;32mclass\u001b[0m \u001b[0mSalesPerson\u001b[0m\u001b[0;34m:\u001b[0m\u001b[0;34m\u001b[0m\u001b[0;34m\u001b[0m\u001b[0m\n\u001b[0m\u001b[1;32m      2\u001b[0m \u001b[0;34m\u001b[0m\u001b[0m\n\u001b[1;32m      3\u001b[0m     \u001b[0;32mdef\u001b[0m \u001b[0m__init__\u001b[0m\u001b[0;34m(\u001b[0m\u001b[0mself\u001b[0m\u001b[0;34m,\u001b[0m \u001b[0mfirst_name\u001b[0m\u001b[0;34m:\u001b[0m \u001b[0mstr\u001b[0m\u001b[0;34m,\u001b[0m \u001b[0mlast_name\u001b[0m\u001b[0;34m:\u001b[0m \u001b[0mstr\u001b[0m\u001b[0;34m,\u001b[0m \u001b[0memployee_id\u001b[0m\u001b[0;34m:\u001b[0m \u001b[0mint\u001b[0m\u001b[0;34m,\u001b[0m \u001b[0msalary\u001b[0m\u001b[0;34m:\u001b[0m \u001b[0mfloat\u001b[0m\u001b[0;34m)\u001b[0m\u001b[0;34m:\u001b[0m\u001b[0;34m\u001b[0m\u001b[0;34m\u001b[0m\u001b[0m\n\u001b[1;32m      4\u001b[0m         \"\"\"\n\u001b[1;32m      5\u001b[0m         \u001b[0mMethod\u001b[0m \u001b[0;32mfor\u001b[0m \u001b[0minitializing\u001b[0m \u001b[0ma\u001b[0m \u001b[0mSalesPerson\u001b[0m \u001b[0mobject\u001b[0m\u001b[0;34m\u001b[0m\u001b[0;34m\u001b[0m\u001b[0m\n",
      "\u001b[0;32m<ipython-input-31-73fce3c42e79>\u001b[0m in \u001b[0;36mSalesPerson\u001b[0;34m()\u001b[0m\n\u001b[1;32m     26\u001b[0m         \u001b[0mself\u001b[0m\u001b[0;34m.\u001b[0m\u001b[0mtotal_sales\u001b[0m \u001b[0;34m=\u001b[0m \u001b[0;36m0\u001b[0m\u001b[0;34m\u001b[0m\u001b[0;34m\u001b[0m\u001b[0m\n\u001b[1;32m     27\u001b[0m \u001b[0;34m\u001b[0m\u001b[0m\n\u001b[0;32m---> 28\u001b[0;31m     \u001b[0;32mdef\u001b[0m \u001b[0msell_pants\u001b[0m\u001b[0;34m(\u001b[0m\u001b[0mself\u001b[0m\u001b[0;34m,\u001b[0m \u001b[0mpants\u001b[0m\u001b[0;34m:\u001b[0m \u001b[0mObject\u001b[0m\u001b[0;34m)\u001b[0m\u001b[0;34m:\u001b[0m\u001b[0;34m\u001b[0m\u001b[0;34m\u001b[0m\u001b[0m\n\u001b[0m\u001b[1;32m     29\u001b[0m         \"\"\"\n\u001b[1;32m     30\u001b[0m         \u001b[0mThis\u001b[0m \u001b[0mmethod\u001b[0m \u001b[0mreceives\u001b[0m \u001b[0ma\u001b[0m \u001b[0mPants\u001b[0m \u001b[0mobject\u001b[0m \u001b[0;32mand\u001b[0m \u001b[0mappends\u001b[0m\u001b[0;34m\u001b[0m\u001b[0;34m\u001b[0m\u001b[0m\n",
      "\u001b[0;31mNameError\u001b[0m: name 'Object' is not defined"
     ]
    }
   ],
   "source": [
    "class SalesPerson:\n",
    "    \n",
    "    def __init__(self, first_name: str, last_name: str, employee_id: int, salary: float):\n",
    "        \"\"\"\n",
    "        Method for initializing a SalesPerson object\n",
    "        Args: \n",
    "            first_name (str)\n",
    "            last_name (int)\n",
    "            employee_id (int)\n",
    "            salary (float)\n",
    "            \n",
    "        Attributes:\n",
    "            fist_name (str): first_name (string), the first name of the salesperson\n",
    "            last_name (string): the last name of the salesperson\n",
    "            employee_id (int): the employee ID number like 5681923\n",
    "            salary (float): the monthly salary of the employee\n",
    "            pants_sold(list of Pants objects): pants that the salesperson has sold \n",
    "            total_sales(float): sum of sales of pants sold\n",
    "        \"\"\"\n",
    "\n",
    "        self.first_name = first_name\n",
    "        self.last_name = last_name\n",
    "        self.employee_id = employee_id\n",
    "        self.salary = salary\n",
    "        self.pants_sold = []\n",
    "        self.total_sales = 0\n",
    "    \n",
    "    def sell_pants(self, pants: Object):\n",
    "        \"\"\"\n",
    "        This method receives a Pants object and appends \n",
    "        the object to the pants_sold attribute list\n",
    "\n",
    "        Args:\n",
    "            pants (Pants object): a pants object\n",
    "        Returns:\n",
    "            None\n",
    "        \"\"\"\n",
    "\n",
    "        pants_sold.append(pants)\n",
    "\n",
    "    def display_sales(self):\n",
    "        \"\"\"\n",
    "        This method has no input or outputs. When this method \n",
    "        is called, the code iterates through the pants_sold list\n",
    "        and prints out the characteristics of each pair of pants\n",
    "        line by line. The print out should look something like this\n",
    "        color: blue, waist_size: 34, length: 34, price: 10\n",
    "        \"\"\"\n",
    "\n",
    "        for pant in pants_sold:\n",
    "            print(f'color: {pant.color}, waist_size: {pant.waist_size}, length: {pant.length}, price: {pant.price}')    \n",
    "\n",
    "    \n",
    "    def calculate_sales(self) -> float:\n",
    "        \"\"\"\n",
    "        N\n",
    "        \"\"\"\n",
    "\n",
    "        return None\n",
    "\n",
    "    def calculate_commission(self) -> float:\n",
    "        \"\"\"    \n",
    "        Args:\n",
    "        percentage (float): comission percentage as a decimal\n",
    "\n",
    "        Returns:\n",
    "            float: total commission\n",
    "        \"\"\"\n",
    "\n",
    "        \n",
    "        return \n",
    "\n"
   ]
  },
  {
   "cell_type": "code",
   "execution_count": null,
   "metadata": {},
   "outputs": [],
   "source": []
  }
 ],
 "metadata": {
  "kernelspec": {
   "display_name": "Python 3.8.10 64-bit",
   "language": "python",
   "name": "python3"
  },
  "language_info": {
   "codemirror_mode": {
    "name": "ipython",
    "version": 3
   },
   "file_extension": ".py",
   "mimetype": "text/x-python",
   "name": "python",
   "nbconvert_exporter": "python",
   "pygments_lexer": "ipython3",
   "version": "3.8.10"
  },
  "orig_nbformat": 4,
  "vscode": {
   "interpreter": {
    "hash": "916dbcbb3f70747c44a77c7bcd40155683ae19c65e1c03b4aa3499c5328201f1"
   }
  }
 },
 "nbformat": 4,
 "nbformat_minor": 2
}
